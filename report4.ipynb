{
 "cells": [
  {
   "cell_type": "code",
   "execution_count": 5,
   "metadata": {},
   "outputs": [
    {
     "name": "stdout",
     "output_type": "stream",
     "text": [
      "Requirement already satisfied: matplotlib in ./env/lib/python3.8/site-packages (3.6.3)\n",
      "Requirement already satisfied: numpy>=1.19 in ./env/lib/python3.8/site-packages (from matplotlib) (1.24.0)\n",
      "Requirement already satisfied: contourpy>=1.0.1 in ./env/lib/python3.8/site-packages (from matplotlib) (1.0.7)\n",
      "Requirement already satisfied: python-dateutil>=2.7 in ./env/lib/python3.8/site-packages (from matplotlib) (2.8.2)\n",
      "Requirement already satisfied: cycler>=0.10 in ./env/lib/python3.8/site-packages (from matplotlib) (0.11.0)\n",
      "Requirement already satisfied: pyparsing>=2.2.1 in ./env/lib/python3.8/site-packages (from matplotlib) (3.0.9)\n",
      "Requirement already satisfied: pillow>=6.2.0 in ./env/lib/python3.8/site-packages (from matplotlib) (9.4.0)\n",
      "Requirement already satisfied: fonttools>=4.22.0 in ./env/lib/python3.8/site-packages (from matplotlib) (4.38.0)\n",
      "Requirement already satisfied: packaging>=20.0 in ./env/lib/python3.8/site-packages (from matplotlib) (22.0)\n",
      "Requirement already satisfied: kiwisolver>=1.0.1 in ./env/lib/python3.8/site-packages (from matplotlib) (1.4.4)\n",
      "Requirement already satisfied: six>=1.5 in ./env/lib/python3.8/site-packages (from python-dateutil>=2.7->matplotlib) (1.16.0)\n"
     ]
    }
   ],
   "source": [
    "!pip install matplotlib"
   ]
  },
  {
   "cell_type": "code",
   "execution_count": 6,
   "metadata": {},
   "outputs": [],
   "source": [
    "import numpy as np\n",
    "import math\n",
    "import matplotlib.pyplot as plt   \n",
    "import random  "
   ]
  },
  {
   "attachments": {},
   "cell_type": "markdown",
   "metadata": {},
   "source": [
    "# 情報計算科学の基礎 \n",
    "レポート4\n",
    "\n"
   ]
  },
  {
   "attachments": {},
   "cell_type": "markdown",
   "metadata": {},
   "source": [
    "(1) $ E(x) = 3(x-2)^4 + (x-2)^2 + 1 $を最小化するxをニュートン法で求める。\n",
    "\n",
    "$ E'(x)/2 = 6(x-2)^3 + (x-2) $ なので、  $ E'(x)/2 = 0 $　となるx を求める。"
   ]
  },
  {
   "cell_type": "code",
   "execution_count": 7,
   "metadata": {},
   "outputs": [],
   "source": [
    "EPSILON = 1e-8 # 0.0000001"
   ]
  },
  {
   "cell_type": "code",
   "execution_count": 8,
   "metadata": {},
   "outputs": [],
   "source": [
    "def E_OBJ_FUNC(x) -> float:\n",
    "    return 6*(x-2)**3 + (x-2)\n",
    "\n",
    "def E_D_FUNC(x) -> float :\n",
    "    return 18*(x - 2)**2 + 1"
   ]
  },
  {
   "cell_type": "code",
   "execution_count": 68,
   "metadata": {},
   "outputs": [],
   "source": [
    "def calc_slice(liner_func):\n",
    "    pass\n",
    "\n",
    "def solve_eq_1(objfunc,dfunc,dimension:int = 1) -> float :\n",
    "    x = 20000*( random.random() - 0.5 )\n",
    "    print(f'x:init:{x}')\n",
    "    err = objfunc(x)\n",
    "    while abs(err) > EPSILON:\n",
    "        x_formar = x\n",
    "        x = x_formar - (objfunc(x_formar) / dfunc(x_formar))\n",
    "        err = objfunc(x)\n",
    "    \n",
    "    print(f'err:{err}')\n",
    "    print(f'x:{x}')\n",
    "\n",
    "    return x"
   ]
  },
  {
   "cell_type": "code",
   "execution_count": 47,
   "metadata": {},
   "outputs": [
    {
     "name": "stdout",
     "output_type": "stream",
     "text": [
      "x:init:92.88988434797676\n",
      "err:0.0\n",
      "x:2.0\n",
      "2.0\n"
     ]
    }
   ],
   "source": [
    "print(solve_eq_1(E_OBJ_FUNC,E_D_FUNC))"
   ]
  },
  {
   "cell_type": "code",
   "execution_count": 76,
   "metadata": {},
   "outputs": [
    {
     "name": "stdout",
     "output_type": "stream",
     "text": [
      "x:init:-8002.999486444318\n",
      "err:0.0\n",
      "x:2.0\n",
      "2.0\n"
     ]
    }
   ],
   "source": [
    "print(solve_eq_1(E_OBJ_FUNC,E_D_FUNC))"
   ]
  },
  {
   "attachments": {},
   "cell_type": "markdown",
   "metadata": {},
   "source": [
    "かなり早いスピードで $ x=2 $ に収束した。また、初期値がかなり大きくても早いスピードで収束した。"
   ]
  },
  {
   "attachments": {},
   "cell_type": "markdown",
   "metadata": {},
   "source": [
    "(2)"
   ]
  },
  {
   "cell_type": "code",
   "execution_count": 16,
   "metadata": {},
   "outputs": [],
   "source": [
    "def F_OBJ_FUNC(x) -> list:\n",
    "    ans = [0,0]\n",
    "    ans[0] = (6*(x[0]-3) + 6*(x[0]-3)*(x[1]-2)**2)    \n",
    "    ans[1] = (6*(x[1]-2)*(x[0]-3)**2 + 8*(x[1]-2))\n",
    "    return ans\n",
    "\n",
    "def F_D_FUNC(x) -> list :\n",
    "    ans =[[0,0],[0,0]]\n",
    "    ans[0][0] = 6*((x[1] - 2)**2 + 1)\n",
    "    ans[0][1] = 12*(x[0] - 3)*(x[1] - 2)\n",
    "    ans[1][0] = ans[0][1]\n",
    "    ans[1][1] = 6*(x[0] - 3)**2 + 8\n",
    "    return ans\n",
    "\n",
    "\n"
   ]
  },
  {
   "cell_type": "code",
   "execution_count": 34,
   "metadata": {},
   "outputs": [],
   "source": [
    "EPSILON = 1e-8 # 0.0000001\n",
    "# EPSILON = 0.1 # 0.1\n",
    "\n",
    "def inv_mat(A):\n",
    "    n_size_of_A = len(A)\n",
    "    X = np.eye(n_size_of_A)\n",
    "    #まずAを上三角行列にする。\n",
    "    A = A.astype('float64')\n",
    "    for p in range(n_size_of_A):\n",
    "        pivot = A[p][p]\n",
    "        for j in range(p+1, n_size_of_A):\n",
    "            coef = A[j][p] / pivot\n",
    "            A[j] -= A[p] * coef\n",
    "            X[j] -= X[p] * coef\n",
    "    #途中経過確認。\n",
    "    #print(A)\n",
    "    #print(X)\n",
    "    #対角成分を1にする。\n",
    "    for i in range(n_size_of_A):\n",
    "        X[i] /= A[i][i]\n",
    "        A[i] /= A[i][i]\n",
    "    #途中経過確認。\n",
    "    #print(A)\n",
    "    #print(X)\n",
    "    #答えを出す。\n",
    "    for i in range(n_size_of_A-1,0,-1):\n",
    "        for j in range(i):\n",
    "            X[j] -= X[i] * A[j][i]\n",
    "            A[j][i] = 0\n",
    "    return X\n",
    "\n",
    "def solve_eq_2(objfunc,dfunc,dimension:int = 2) -> float :\n",
    "    x = 20000*(np.random.rand(dimension) - np.array(([0 for i in range(dimension)])) )\n",
    "    print(f'x:init:{x}')\n",
    "    err = objfunc(x)\n",
    "    while np.linalg.norm(np.array(err)) > EPSILON:\n",
    "        x_formar = x\n",
    "        inv = inv_mat(np.array( (dfunc(x_formar)) ))\n",
    "        x = x_formar - (inv @   np.array( objfunc(x_formar) ) )\n",
    "        err = objfunc(x)\n",
    "        # print(f'err:{err}')\n",
    "        # print(f'x:{x}')\n",
    "    \n",
    "    print(f'err:{err}')\n",
    "    print(f'x:{x}')\n",
    "\n",
    "    return x"
   ]
  },
  {
   "cell_type": "code",
   "execution_count": 35,
   "metadata": {},
   "outputs": [
    {
     "name": "stdout",
     "output_type": "stream",
     "text": [
      "x:init:[19212.23383629 17477.89416071]\n",
      "err:[5.329070518200751e-15, 2.842170943040401e-14]\n",
      "x:[3. 2.]\n",
      "[3. 2.]\n"
     ]
    }
   ],
   "source": [
    "print(solve_eq_2(F_OBJ_FUNC,F_D_FUNC))"
   ]
  },
  {
   "attachments": {},
   "cell_type": "markdown",
   "metadata": {},
   "source": [
    "なので、解は $ (x_1,x_2) = (3,2) $\n",
    "これもかなり早いスピードで収束した。"
   ]
  }
 ],
 "metadata": {
  "kernelspec": {
   "display_name": "env",
   "language": "python",
   "name": "python3"
  },
  "language_info": {
   "codemirror_mode": {
    "name": "ipython",
    "version": 3
   },
   "file_extension": ".py",
   "mimetype": "text/x-python",
   "name": "python",
   "nbconvert_exporter": "python",
   "pygments_lexer": "ipython3",
   "version": "3.8.10 (default, Nov 14 2022, 12:59:47) \n[GCC 9.4.0]"
  },
  "orig_nbformat": 4,
  "vscode": {
   "interpreter": {
    "hash": "f7feb82588f236b9d63374c0be9680b92e6f13c4b42ed2d20572ed6241fd5da9"
   }
  }
 },
 "nbformat": 4,
 "nbformat_minor": 2
}
