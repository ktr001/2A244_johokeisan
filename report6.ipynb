{
 "cells": [
  {
   "cell_type": "code",
   "execution_count": 3,
   "metadata": {},
   "outputs": [
    {
     "name": "stdout",
     "output_type": "stream",
     "text": [
      "Requirement already satisfied: matplotlib in ./env/lib/python3.8/site-packages (3.6.3)\n",
      "Requirement already satisfied: packaging>=20.0 in ./env/lib/python3.8/site-packages (from matplotlib) (22.0)\n",
      "Requirement already satisfied: fonttools>=4.22.0 in ./env/lib/python3.8/site-packages (from matplotlib) (4.38.0)\n",
      "Requirement already satisfied: kiwisolver>=1.0.1 in ./env/lib/python3.8/site-packages (from matplotlib) (1.4.4)\n",
      "Requirement already satisfied: pillow>=6.2.0 in ./env/lib/python3.8/site-packages (from matplotlib) (9.4.0)\n",
      "Requirement already satisfied: pyparsing>=2.2.1 in ./env/lib/python3.8/site-packages (from matplotlib) (3.0.9)\n",
      "Requirement already satisfied: numpy>=1.19 in ./env/lib/python3.8/site-packages (from matplotlib) (1.24.0)\n",
      "Requirement already satisfied: cycler>=0.10 in ./env/lib/python3.8/site-packages (from matplotlib) (0.11.0)\n",
      "Requirement already satisfied: contourpy>=1.0.1 in ./env/lib/python3.8/site-packages (from matplotlib) (1.0.7)\n",
      "Requirement already satisfied: python-dateutil>=2.7 in ./env/lib/python3.8/site-packages (from matplotlib) (2.8.2)\n",
      "Requirement already satisfied: six>=1.5 in ./env/lib/python3.8/site-packages (from python-dateutil>=2.7->matplotlib) (1.16.0)\n",
      "\u001b[H\u001b[2J"
     ]
    }
   ],
   "source": [
    "!pip install matplotlib\n",
    "!clear"
   ]
  },
  {
   "cell_type": "code",
   "execution_count": 2,
   "metadata": {},
   "outputs": [],
   "source": [
    "import numpy as np\n",
    "import math\n",
    "import matplotlib.pyplot as plt   \n",
    "import random  "
   ]
  },
  {
   "attachments": {},
   "cell_type": "markdown",
   "metadata": {},
   "source": [
    "# 情報計算科学の基礎 \n",
    "\n",
    "レポート6(補完)\n",
    "\n"
   ]
  },
  {
   "attachments": {},
   "cell_type": "markdown",
   "metadata": {},
   "source": [
    "## 問題\n",
    "\n",
    "$ x_i = 0.1i, y_i = (x_i)^3 + \\beta rand() (i=1,2,3,......,10) $ で生成したデータセットに対するデータ補完式を $ y(x) = \\Sigma_i=1^ 10 c_i x^i-1 $ で定める方法を考える。\n",
    "\n",
    "ここで、rand は-1 から 1 までの値を取る乱数である。以\n",
    "下の設問 1～3 においては各設問を通して β = 0.1 で作成した、式(3)～(12) で示す値 $ y_i(i = 1, 2, 3, ..., 10) $  を用いよ。\n",
    "\n",
    "\\begin{aligned}\n",
    "\n",
    "y1 = 0.0831894 (3) \\\\\n",
    "y2 = 0.100367 (4) \\\\\n",
    "y3 = 0.107784 (5) \\\\\n",
    "y4 = 0.0198079 (6) \\\\\n",
    "y5 = 0.219709 (7) \\\\ \n",
    "y6 = 0.280256 (8) \\\\\n",
    "y7 = 0.254182 (9) \\\\\n",
    "y8 = 0.471638 (10) \\\\\n",
    "y9 = 0.771075 (11) \\\\\n",
    "y10 = 0.976337 (12) \\\\\n",
    "\n",
    "\\end{aligned}\n",
    "\n"
   ]
  },
  {
   "cell_type": "code",
   "execution_count": 4,
   "metadata": {},
   "outputs": [],
   "source": [
    "\n",
    "\n",
    "N_SIZE = 10\n",
    "\n",
    "y1 = 0.0831894\n",
    "y2 = 0.100367  \n",
    "y3 = 0.107784 \n",
    "y4 = 0.0198079 \n",
    "y5 = 0.219709 \n",
    "y6 = 0.280256 \n",
    "y7 = 0.254182 \n",
    "y8 = 0.471638\n",
    "y9 = 0.771075 \n",
    "y10 = 0.976337\n",
    "\n",
    "X = [(i+1)/10 for i in range(N_SIZE) ]\n",
    "Y = [y1,y2,y3,y4,y5,y6,y7,y8,y9,y10]\n",
    "\n"
   ]
  },
  {
   "attachments": {},
   "cell_type": "markdown",
   "metadata": {},
   "source": [
    "## (1)"
   ]
  },
  {
   "cell_type": "code",
   "execution_count": 5,
   "metadata": {},
   "outputs": [
    {
     "data": {
      "image/png": "[encoded data removed]",
      "text/plain": [
       "<Figure size 640x480 with 1 Axes>"
      ]
     },
     "metadata": {},
     "output_type": "display_data"
    }
   ],
   "source": [
    "A = np.zeros((N_SIZE,N_SIZE))\n",
    "def Init():\n",
    "    for i in range(N_SIZE):\n",
    "        for j in range(N_SIZE):\n",
    "            A[i][j] = X[i]**j\n",
    "    # print(A)\n",
    "\n",
    "def inv_mat(A):\n",
    "    n_size_of_A = len(A)\n",
    "    X = np.eye(n_size_of_A)\n",
    "    #まずAを上三角行列にする。\n",
    "    A = A.astype('float64')\n",
    "    for p in range(n_size_of_A):\n",
    "        pivot = A[p][p]\n",
    "        for j in range(p+1, n_size_of_A):\n",
    "            coef = A[j][p] / pivot\n",
    "            A[j] -= A[p] * coef\n",
    "            X[j] -= X[p] * coef\n",
    "    #途中経過確認。\n",
    "    #print(A)\n",
    "    #print(X)\n",
    "    #対角成分を1にする。\n",
    "    for i in range(n_size_of_A):\n",
    "        X[i] /= A[i][i]\n",
    "        A[i] /= A[i][i]\n",
    "    #途中経過確認。\n",
    "    #print(A)\n",
    "    #print(X)\n",
    "    #答えを出す。\n",
    "    for i in range(n_size_of_A-1,0,-1):\n",
    "        for j in range(i):\n",
    "            X[j] -= X[i] * A[j][i]\n",
    "            A[j][i] = 0\n",
    "    return X\n",
    "\n",
    "def trans_mat(A):\n",
    "    size_of_A = ( len(A[0]), len(A) )\n",
    "    # print(size_of_A)\n",
    "    # print(A[0])\n",
    "    X = np.zeros(size_of_A)\n",
    "\n",
    "    for i in range(size_of_A[0]):\n",
    "        for j in range(size_of_A[1]):\n",
    "            X[i][j] = A[j][i]\n",
    "\n",
    "    return X    \n",
    "\n",
    "Init()\n",
    "\n",
    "c = ( inv_mat(\n",
    "            trans_mat(A) @ A\n",
    "        ) \n",
    "        @ trans_mat(A) \n",
    "        ) @ np.array(Y)\n",
    "\n",
    "# print('c:\\n\\n',c)\n",
    "\n",
    "def y_func(x):\n",
    "    '''答えとなる関数を生成（この関数はfloat to float の関数）'''\n",
    "    y = 0\n",
    "    for i in range(N_SIZE):\n",
    "        y += c[i] * (x**i)\n",
    "    \n",
    "    return y\n",
    "\n",
    "# for i in range(N_SIZE):\n",
    "    # print(f'y_func@{i/10}')\n",
    "    # print(y_func(i/10))\n",
    "\n",
    "x = np.linspace(0.1,1,1000)\n",
    "y=np.zeros(1000)\n",
    "for i in range(1000):\n",
    "    y[i] = y_func(x[i])\n",
    "\n",
    "plt.figure()\n",
    "\n",
    "plt.plot(x,y)\n",
    "plt.scatter(X,Y)\n",
    "\n",
    "plt.show()\n",
    "\n",
    "# print(f'x:{x}')\n",
    "# print(f'y:{y}')\n"
   ]
  },
  {
   "attachments": {},
   "cell_type": "markdown",
   "metadata": {},
   "source": [
    "上のグラフは観測値にフィットしすぎているため、改良が必要である。"
   ]
  },
  {
   "attachments": {},
   "cell_type": "markdown",
   "metadata": {},
   "source": [
    "## (2) \n"
   ]
  },
  {
   "attachments": {},
   "cell_type": "markdown",
   "metadata": {},
   "source": [
    "### Lambda = 0.0001"
   ]
  },
  {
   "cell_type": "code",
   "execution_count": 6,
   "metadata": {},
   "outputs": [],
   "source": [
    "EPSILON = 1e-5 # 0.000001\n",
    "\n",
    "L=[0.0001,0.01,1.0]\n",
    "ALPHA = 0.001\n",
    "err = 1\n",
    "\n",
    "def softthreshold(vector,la):\n",
    "    x = []\n",
    "    for v in vector:\n",
    "        if v > la:\n",
    "            x.append(v - la)\n",
    "        elif v < -la:\n",
    "            x.append(v + la)\n",
    "        else:\n",
    "            x.append(0)\n",
    "    return np.array(x)\n"
   ]
  },
  {
   "cell_type": "code",
   "execution_count": 7,
   "metadata": {},
   "outputs": [
    {
     "data": {
      "image/png": "[encoded data removed]",
      "text/plain": [
       "<Figure size 640x480 with 1 Axes>"
      ]
     },
     "metadata": {},
     "output_type": "display_data"
    }
   ],
   "source": [
    "def y_func(x):\n",
    "    '''答えとなる関数を生成（この関数はfloat to float の関数）'''\n",
    "    y = 0\n",
    "    for i in range(N_SIZE):\n",
    "        y += c[i] * (x**i)\n",
    "    \n",
    "    return y\n",
    "\n",
    "# for i in range(N_SIZE):\n",
    "    # print(f'y_func@{i/10}')\n",
    "    # print(y_func(i/10))\n",
    "\n",
    "x = np.linspace(0.1,1,1000)\n",
    "y=np.zeros(1000)\n",
    "for i in range(1000):\n",
    "    y[i] = y_func(x[i])\n",
    "\n",
    "plt.figure()\n",
    "\n",
    "plt.plot(x,y)\n",
    "plt.scatter(X,Y)\n",
    "\n",
    "plt.show()\n"
   ]
  },
  {
   "cell_type": "markdown",
   "metadata": {},
   "source": []
  },
  {
   "attachments": {},
   "cell_type": "markdown",
   "metadata": {},
   "source": [
    "### Lambda = 0.01"
   ]
  },
  {
   "cell_type": "code",
   "execution_count": 9,
   "metadata": {},
   "outputs": [
    {
     "name": "stdout",
     "output_type": "stream",
     "text": [
      "i:0\n",
      "9.637162275201256e-06\n",
      "i:34869\n",
      "c :[0.06987938 0.         0.178911   0.23736908 0.2193225  0.16695558\n",
      " 0.09965341 0.02582213 0.         0.        ]\n"
     ]
    },
    {
     "data": {
      "image/png": "[encoded data removed]",
      "text/plain": [
       "<Figure size 640x480 with 1 Axes>"
      ]
     },
     "metadata": {},
     "output_type": "display_data"
    }
   ],
   "source": [
    "l = 1\n",
    "\n",
    "i = 0\n",
    "c = np.ones(N_SIZE)\n",
    "err = 1\n",
    "print(f'i:{i}')\n",
    "while err > EPSILON:\n",
    "    g = trans_mat(A) @ (A @ c - np.array(Y))\n",
    "    # print('g')\n",
    "    # print(g)\n",
    "    c_t = c - ALPHA * g\n",
    "    c_formar = c\n",
    "    c = softthreshold(c_t,ALPHA*L[l])\n",
    "    err = np.linalg.norm(c -c_formar) / np.linalg.norm(c_formar)\n",
    "    # if i > 15000:\n",
    "    #     print(f'i:{i}')\n",
    "    #     print(err)\n",
    "    # if i % 400 == 0:\n",
    "    #     print(c) \n",
    "        \n",
    "    i += 1\n",
    "\n",
    "print(err) \n",
    "print(f'i:{i}')\n",
    "\n",
    "print(f'c :{c}')\n",
    "def y_func(x):\n",
    "    '''答えとなる関数を生成（この関数はfloat to float の関数）'''\n",
    "    y = 0\n",
    "    for i in range(N_SIZE):\n",
    "        y += c[i] * (x**i)\n",
    "    \n",
    "    return y\n",
    "\n",
    "# for i in range(N_SIZE):\n",
    "    # print(f'y_func@{i/10}')\n",
    "    # print(y_func(i/10))\n",
    "\n",
    "x = np.linspace(0.1,1,1000)\n",
    "y=np.zeros(1000)\n",
    "for i in range(1000):\n",
    "    y[i] = y_func(x[i])\n",
    "\n",
    "plt.figure()\n",
    "\n",
    "plt.plot(x,y)\n",
    "plt.scatter(X,Y)\n",
    "\n",
    "plt.show()\n"
   ]
  },
  {
   "attachments": {},
   "cell_type": "markdown",
   "metadata": {},
   "source": [
    "### Lambda = 1.0"
   ]
  },
  {
   "cell_type": "code",
   "execution_count": 8,
   "metadata": {},
   "outputs": [
    {
     "name": "stdout",
     "output_type": "stream",
     "text": [
      "i:0\n",
      "9.999176148076665e-06\n",
      "i:15078\n",
      "c :[0.02095898 0.3775759  0.         0.         0.         0.\n",
      " 0.         0.         0.         0.        ]\n"
     ]
    },
    {
     "data": {
      "image/png": "[encoded data removed]",
      "text/plain": [
       "<Figure size 640x480 with 1 Axes>"
      ]
     },
     "metadata": {},
     "output_type": "display_data"
    }
   ],
   "source": [
    "l = 2\n",
    "\n",
    "i = 0\n",
    "c = np.ones(N_SIZE)\n",
    "err = 1\n",
    "print(f'i:{i}')\n",
    "while err > EPSILON:\n",
    "    g = trans_mat(A) @ (A @ c - np.array(Y))\n",
    "    # print('g')\n",
    "    # print(g)\n",
    "    c_t = c - ALPHA * g\n",
    "    c_formar = c\n",
    "    c = softthreshold(c_t,ALPHA*L[l])\n",
    "    err = np.linalg.norm(c -c_formar) / np.linalg.norm(c_formar)\n",
    "    # if i > 15000:\n",
    "    #     print(f'i:{i}')\n",
    "    #     print(err)\n",
    "    # if i % 400 == 0:\n",
    "    #     print(c) \n",
    "        \n",
    "    i += 1\n",
    "\n",
    "print(err) \n",
    "print(f'i:{i}')\n",
    "\n",
    "print(f'c :{c}')\n",
    "def y_func(x):\n",
    "    '''答えとなる関数を生成（この関数はfloat to float の関数）'''\n",
    "    y = 0\n",
    "    for i in range(N_SIZE):\n",
    "        y += c[i] * (x**i)\n",
    "    \n",
    "    return y\n",
    "\n",
    "# for i in range(N_SIZE):\n",
    "    # print(f'y_func@{i/10}')\n",
    "    # print(y_func(i/10))\n",
    "\n",
    "x = np.linspace(0.1,1,1000)\n",
    "y=np.zeros(1000)\n",
    "for i in range(1000):\n",
    "    y[i] = y_func(x[i])\n",
    "\n",
    "plt.figure()\n",
    "\n",
    "plt.plot(x,y)\n",
    "plt.scatter(X,Y)\n",
    "\n",
    "plt.show()\n"
   ]
  },
  {
   "attachments": {},
   "cell_type": "markdown",
   "metadata": {},
   "source": [
    "## (3)"
   ]
  },
  {
   "cell_type": "code",
   "execution_count": 19,
   "metadata": {},
   "outputs": [],
   "source": [
    "# Y = [[]]*N_SIZE\n",
    "X_FILTERED = list()\n",
    "Y_FILTERED = list()\n",
    "A_FILTERED = list()\n",
    "for i in range(N_SIZE):\n",
    "    X_FILTERED.append( [element for element in X if not X.index(element) == i]  )\n",
    "    Y_FILTERED.append( [element for element in Y if not Y.index(element) == i]  )\n",
    "    A_FILTERED.append( np.delete(A,i,0))\n",
    "    \n",
    "\n",
    "L = [ pow(0.01,2-i) for i in range(3) ]\n",
    "\n",
    "# print(A_FILTERED[1])\n"
   ]
  },
  {
   "cell_type": "code",
   "execution_count": 14,
   "metadata": {},
   "outputs": [],
   "source": [
    "\n",
    "def LASSO_normalize(A_in,Y_in,Lam):\n",
    "    size_of_input = len(Y_in)\n",
    "    c = np.ones(N_SIZE)\n",
    "    err = 1\n",
    "    i = 0\n",
    "    # print(f'i:{i}')\n",
    "    while err > EPSILON:\n",
    "        \n",
    "        # print(A_in @ c)\n",
    "        g = trans_mat(A_in) @ (A_in @ c - np.array(Y_in))\n",
    "        # print('g')\n",
    "        # print(g)\n",
    "        c_t = c - ALPHA * g\n",
    "        c_formar = c\n",
    "        c = softthreshold(c_t,ALPHA*Lam)\n",
    "        err = np.linalg.norm(c -c_formar) / np.linalg.norm(c_formar)\n",
    "        # if i > 15000:\n",
    "        #     print(f'i:{i}')\n",
    "        #     print(err)\n",
    "        # if i % 400 == 0:\n",
    "        #     print(c) \n",
    "            \n",
    "        i += 1\n",
    "\n",
    "    # print(err) \n",
    "    # print(f'i:{i}')\n",
    "\n",
    "    # print(f'c :{c}')\n",
    "    def y_func(x):\n",
    "        '''答えとなる関数を生成（この関数はfloat to float の関数）'''\n",
    "        y = 0\n",
    "        for i in range(N_SIZE):\n",
    "            y += c[i] * (x**i)\n",
    "        \n",
    "        return y\n",
    "    return y_func\n",
    "\n",
    "def graph(func):\n",
    "    x = np.linspace(0.1,1,1000)\n",
    "    y=np.zeros(1000)\n",
    "    for i in range(1000):\n",
    "        y[i] = func(x[i])\n",
    "\n",
    "    plt.figure()\n",
    "\n",
    "    plt.plot(x,y)\n",
    "    plt.scatter(X,Y)\n",
    "\n",
    "    plt.show()"
   ]
  },
  {
   "cell_type": "code",
   "execution_count": 22,
   "metadata": {},
   "outputs": [
    {
     "name": "stdout",
     "output_type": "stream",
     "text": [
      "the mean of errs when lambda = 0.0001\n",
      "\t:0.1017688657197553\n",
      "the mean of errs when lambda = 0.01\n",
      "\t:0.08560773539020224\n",
      "the mean of errs when lambda = 1.0\n",
      "\t:0.18879819298704198\n"
     ]
    }
   ],
   "source": [
    "errlist = list()\n",
    "\n",
    "for Lam in L:\n",
    "    y_tests = list()\n",
    "    y_errs = list()\n",
    "    for i in range(N_SIZE):\n",
    "        y_tests.append( LASSO_normalize(A_FILTERED[i],Y_FILTERED[i],Lam) )\n",
    "        y_err = abs( y_tests[i](X[i]) - Y[i] )\n",
    "        # print(f'y_err[{i}]={y_err}')\n",
    "        y_errs.append(y_err)\n",
    "    \n",
    "\n",
    "    # print(y_errs)\n",
    "    print(f'the mean of errs when lambda = {Lam}\\n\\t:{sum(y_errs) / len(y_errs)}')\n",
    "    errlist.append(y_errs)\n",
    "        \n",
    "\n"
   ]
  },
  {
   "attachments": {},
   "cell_type": "markdown",
   "metadata": {},
   "source": [
    "上記の結果より、$ \\lambda = 0.01 $ の時が誤差が少ないとわかった。"
   ]
  },
  {
   "attachments": {},
   "cell_type": "markdown",
   "metadata": {},
   "source": [
    "### 他の人のをチェック"
   ]
  },
  {
   "cell_type": "code",
   "execution_count": 23,
   "metadata": {},
   "outputs": [
    {
     "name": "stdout",
     "output_type": "stream",
     "text": [
      "the mean of errs when lambda = 0.0001\n",
      "\t:0.14353355546852498\n",
      "the mean of errs when lambda = 0.01\n",
      "\t:0.1331289242314459\n",
      "the mean of errs when lambda = 1.0\n",
      "\t:0.6390139950722105\n"
     ]
    }
   ],
   "source": [
    "xlist, ylist = X, Y\n",
    "Transpose = trans_mat\n",
    "n = N_SIZE\n",
    "\n",
    "errlist_m = list()\n",
    "\n",
    "def norm2(n,vec):\n",
    "    return np.linalg.norm(vec)\n",
    "\n",
    "def softthreshold_matsu(element,la):\n",
    "    x = 0\n",
    "    if element > la:\n",
    "        x = (element - la)\n",
    "    elif element < -la:\n",
    "        x = (element + la)\n",
    "    else:\n",
    "        x = 0\n",
    "    return x\n",
    "\n",
    "    \n",
    "def judgement(r):\n",
    "  x_main = []\n",
    "  y_main = []\n",
    "  x_cross = []\n",
    "  y_cross = []\n",
    "  sum = 0\n",
    "  # dif = 0\n",
    "  difs = []\n",
    "  for i in range(n):\n",
    "    #9:1にわける\n",
    "    x_main = np.delete(xlist,i) #9個のxのリスト\n",
    "    y_main = np.delete(ylist,i)\n",
    "    A_del = np.delete(A,i,0) #抽出したxi以外による10*9の行列\n",
    "    transA_del = np.delete(Transpose(A),i,1) #抽出したxi以外による9*10の転置行列\n",
    "    \n",
    "    #LASSOで検証\n",
    "    a = 0.001\n",
    "    err = 10**(-4)\n",
    "    c = np.ones(n)\n",
    "    c_new =1/2 * np.ones(n)\n",
    "    while norm2(n, (c_new - c)) > err:\n",
    "      g = transA_del@A_del@c - transA_del@y_main\n",
    "      for i in range(n):\n",
    "        c[i] = c_new[i]\n",
    "      ct = c - a*g\n",
    "      for i in range(len(ct)):\n",
    "        c_new[i] = softthreshold_matsu(float(ct[i]),a*r)\n",
    "    #return c_new #cを収束させた\n",
    "    \n",
    "    def y_func(x):\n",
    "      y = 0\n",
    "      for j in range(n):\n",
    "        y += c_new[j] * x**j\n",
    "      return y #9個のデータでの関数\n",
    "    dif = abs(ylist[i] - y_func(xlist[i])) #ycorrect-ypredict\n",
    "    sum += dif\n",
    "    difs.append(dif) #小寺追加\n",
    "  return sum/10,difs\n",
    "\n",
    "r_lam = 0.0001\n",
    "while r_lam < 10:\n",
    "  ave,difs = judgement(r_lam)\n",
    "  errlist_m.append(difs)\n",
    "  print(f'the mean of errs when lambda = {r_lam}\\n\\t:{ave}')\n",
    "  r_lam *= 100\n",
    "  \n",
    "  "
   ]
  },
  {
   "cell_type": "code",
   "execution_count": 24,
   "metadata": {},
   "outputs": [
    {
     "name": "stdout",
     "output_type": "stream",
     "text": [
      "[0.01596372954650778, 0.027859627531057182, 0.018508932770104167, 0.12571662487890786, 0.07985554465899974, 0.06942458109934688, 0.10793887843519595, 0.026237443446765707, 0.11858367159582683, 0.4275996232348409]\n",
      "[0.022837954423690597, 0.02879102202732879, 0.01633796364306453, 0.12785917037526015, 0.06401135740865602, 0.057889168127706975, 0.10719474587167233, 0.014956028494983842, 0.12152877508582094, 0.2946711684438381]\n",
      "[0.03717657569563424, 0.005156639701303187, 0.03205042564906001, 0.17429792947966877, 0.011102988548834652, 0.036513442143966235, 0.03559717119368694, 0.18012727233907094, 0.5447983207541323, 0.8311611643650626]\n",
      "[0.09875366031133348, 0.09891646341041249, 0.0988797808049402, 0.09320622372850829, 0.10289030825482448, 0.10357076283758038, 0.09713941447771024, 0.0925720633313527, 0.051633308116224796, 0.5977735694123627]\n",
      "[0.0907802450616999, 0.090953280226854, 0.09082729265120015, 0.08516114624330862, 0.09488503755088518, 0.09577770401179442, 0.08903998257780255, 0.08473925670193583, 0.04249237929015992, 0.5666329179988185]\n",
      "[0.5966054009045911, 0.5954967297149278, 0.5942669120235068, 0.5927655221332563, 0.5913692165883432, 0.5978982523182692, 0.5897014537212795, 0.6401364971986009, 0.7582881796641283, 0.8336117864552027]\n"
     ]
    }
   ],
   "source": [
    "for i,errlist_i in enumerate(errlist):\n",
    "    print(errlist_i)\n",
    "\n",
    "for i,errlist_m_i in enumerate(errlist_m):\n",
    "    print(errlist_m_i)\n",
    "\n",
    "\n",
    "for i in range(N_SIZE):\n",
    "    print(f'i={i}\\n:')\n",
    "    for  in "
   ]
  }
 ],
 "metadata": {
  "kernelspec": {
   "display_name": "env",
   "language": "python",
   "name": "python3"
  },
  "language_info": {
   "codemirror_mode": {
    "name": "ipython",
    "version": 3
   },
   "file_extension": ".py",
   "mimetype": "text/x-python",
   "name": "python",
   "nbconvert_exporter": "python",
   "pygments_lexer": "ipython3",
   "version": "3.8.10"
  },
  "orig_nbformat": 4,
  "vscode": {
   "interpreter": {
    "hash": "f7feb82588f236b9d63374c0be9680b92e6f13c4b42ed2d20572ed6241fd5da9"
   }
  }
 },
 "nbformat": 4,
 "nbformat_minor": 2
}
