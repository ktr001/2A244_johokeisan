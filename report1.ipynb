{
 "cells": [
  {
   "attachments": {},
   "cell_type": "markdown",
   "metadata": {},
   "source": [
    "# 情報計算科学の基礎 \n",
    "レポート"
   ]
  },
  {
   "cell_type": "code",
   "execution_count": 4,
   "metadata": {},
   "outputs": [],
   "source": [
    "# Numpy を使うので，Numpy のライブラリーをインポート\n",
    "import numpy as np\n",
    "\n",
    "def createInitMats(n:int):\n",
    "    ds = 1./(n+1)\n",
    "    A = np.zeros((n,n)) #すべての成分が0のn×n行列 \n",
    "    b = np.zeros(n) #すべての成分が0のサイズnのベクトル\n",
    "    for i in range(n):\n",
    "        A[i][i] = 2./ds\n",
    "        b[i] = -ds\n",
    "    for i in range(n-1):\n",
    "        A[i][i+1] = -1./ds\n",
    "        A[i+1][i] = -1./ds\n",
    "\n",
    "    P = np.array( [[A[n-i-1][j] for j in range(n)] for i in range(n)] )\n",
    "    q = np.array( [b[n-i-1] for i in range(n)] )\n",
    "\n",
    "    # print(A)\n",
    "    # print(P)\n",
    "\n",
    "    # print(b)\n",
    "    # print(q)\n",
    "\n",
    "    return {'A':A,'P':P,'b':b,'q':q}"
   ]
  },
  {
   "cell_type": "code",
   "execution_count": 57,
   "metadata": {},
   "outputs": [],
   "source": [
    "def gausselimination_withoutpivot(n,Aorg,borg):\n",
    "  A = np.copy(Aorg)\n",
    "  b = np.copy(borg)\n",
    "  x = np.zeros(n)\n",
    "\n",
    "  # 前進消去\n",
    "  for j in range(0,n,1):\n",
    "    for i in range(j+1,n,1):\n",
    "      coe = -A[i][j]/A[j][j]\n",
    "      for k in range(j,n,1):\n",
    "        A[i][k]+=coe*A[j][k]\n",
    "      b[i]+=coe*b[j]\n",
    "\n",
    "  # 後退代入\n",
    "  for j in range(n-1,-1,-1):\n",
    "    btmp=b[j]\n",
    "    for i in range(n-1,j,-1):\n",
    "      btmp-=A[j][i]*x[i]\n",
    "    x[j]=btmp/A[j][j]\n",
    "\n",
    "  # 結果の出力\n",
    "  return x\n",
    "\n",
    "def gausselimination_withpivot(n,A,b):\n",
    "  x = np.zeros(n)\n",
    "  Aorg = np.copy(A)\n",
    "  borg = np.copy(b)\n",
    "\n",
    "  #前進消去\n",
    "  for j in range(n):\n",
    "    #ピポット選択\n",
    "    if A[j][j] == 0:\n",
    "      list = [A[i][j] for i in range(j+1,n)]\n",
    "      abs_list = [abs(i) for i in list]\n",
    "      m = abs_list.index(max(abs_list))\n",
    "      p = m + j + 1\n",
    "      #交換\n",
    "      b[j],b[p] = b[p],b[j]\n",
    "      for c in range(n):\n",
    "        A[j][c],A[p][c] = A[p][c],A[j][c]\n",
    "\n",
    "    for i in range(j+1,n,1):\n",
    "      coe=-A[i][j]/A[j][j]\n",
    "      for k in range(j,n,1):\n",
    "        A[i][k]+=coe*A[j][k]\n",
    "      b[i]+=coe*b[j]\n",
    "    \n",
    "  #後退代入・結果出力\n",
    "  for j in range(n-1,-1,-1):\n",
    "    btmp=b[j]\n",
    "    for i in range(n-1,j,-1):\n",
    "      btmp -= A[j][i]*x[i]\n",
    "    x[j]=btmp/A[j][j]\n",
    "  return x"
   ]
  },
  {
   "cell_type": "code",
   "execution_count": 58,
   "metadata": {},
   "outputs": [],
   "source": [
    "import math\n",
    "import numpy as np\n",
    "\n",
    "# ベクトルxのL2ノルムを計算\n",
    "def norm2(n, x):\n",
    "    res = 0\n",
    "    for i in range(n):\n",
    "        res += x[i]**2\n",
    "    res = math.sqrt(res)\n",
    "\n",
    "    return res\n",
    "\n",
    "# 行列Aとベクトルxの行列ベクトル積Axを計算\n",
    "def matvec(n, A, x):\n",
    "    res = np.zeros(n)\n",
    "    for i in range(n):\n",
    "        tmp = 0\n",
    "        for j in range(n):\n",
    "            tmp += A[i][j]*x[j]\n",
    "        res[i] = tmp\n",
    "\n",
    "    return res\n",
    "\n",
    "# ベクトルxとベクトルyの内積を計算\n",
    "def inner_product(n, x, y):\n",
    "    res = 0\n",
    "    for i in range(n):\n",
    "        res += x[i]*y[i]\n",
    "\n",
    "    return res\n",
    "\n",
    "import numpy as np\n",
    "\n",
    "# 共役勾配法（CG法）でAx=bを解く\n",
    "def CG(n, A, b):\n",
    "    # 0で初期化\n",
    "    x = np.zeros(n)\n",
    "    # 残差の計算\n",
    "    r = b - matvec(n, A, x)\n",
    "    # 残差ベクトルの設定\n",
    "    p = r.copy()\n",
    "\n",
    "    # 許容誤差epsを設定\n",
    "    eps = 10**-8\n",
    "    # 誤差errを計算\n",
    "    err = norm2(n, r)/norm2(n, b)\n",
    "\n",
    "    counter = 0\n",
    "\n",
    "    # 誤差errが許容誤差epsより大きい間以下を繰り返す\n",
    "    while (err > eps):\n",
    "      # ここを編集する\n",
    "      Ap = matvec(n,A,p)\n",
    "      alpha = inner_product(n,p,r) / inner_product(n,p,Ap)\n",
    "      x += alpha * p\n",
    "      r -= alpha * Ap\n",
    "      beta = inner_product(n,r,Ap) / inner_product(n,p,Ap)\n",
    "      p = r - beta * p\n",
    "    #   print(f'Ap:{Ap},\\talpha:{alpha},\\tx:{x},\\tr:{r},\\tbeta:{beta},\\tp:{p}')\n",
    "      err = norm2(n, r) / norm2(n, b)\n",
    "      counter += 1\n",
    "      # print(err)\n",
    "      # if counter > 1:\n",
    "      #   break\n",
    "    # 解を出力\n",
    "    return x"
   ]
  },
  {
   "attachments": {},
   "cell_type": "markdown",
   "metadata": {},
   "source": [
    "## 問1\n",
    "ガウスの消去法（ピボットあり）を実装し、n = 3 の場合の Ax = b の解\n",
    "x を求めよ。また、n = 3 の場合の Px = q の解 x を求め、Ax = b の解と\n",
    "一致することを確認せよ。"
   ]
  },
  {
   "cell_type": "code",
   "execution_count": 59,
   "metadata": {},
   "outputs": [
    {
     "name": "stdout",
     "output_type": "stream",
     "text": [
      "[[ 8. -4.  0.]\n",
      " [-4.  8. -4.]\n",
      " [ 0. -4.  8.]]\n",
      "[[ 0. -4.  8.]\n",
      " [-4.  8. -4.]\n",
      " [ 8. -4.  0.]]\n",
      "[-0.25 -0.25 -0.25]\n",
      "[-0.25 -0.25 -0.25]\n",
      "Ax = b : x = [-0.09375 -0.125   -0.09375]\n",
      "Px = q : x = [-0.09375 -0.125   -0.09375]\n"
     ]
    }
   ],
   "source": [
    "n = 3\n",
    "Inits = createInitMats(n)\n",
    "A,P,b,q = Inits['A'], Inits['P'], Inits['b'], Inits['q']\n",
    "\n",
    "print(f'Ax = b : x = {gausselimination_withpivot(n,A,b)}')\n",
    "print(f'Px = q : x = {gausselimination_withpivot(n,P,q)}')"
   ]
  },
  {
   "attachments": {},
   "cell_type": "markdown",
   "metadata": {},
   "source": [
    "## 問2\n",
    "共役勾配法（反復解法）を実装し、n = 3 の場合の Ax = b の解 x を求\n",
    "めよ。\n"
   ]
  },
  {
   "cell_type": "code",
   "execution_count": 60,
   "metadata": {},
   "outputs": [
    {
     "name": "stdout",
     "output_type": "stream",
     "text": [
      "solved by CG\n",
      "Ax = b: x = [-0.09375 -0.125   -0.09375]\n"
     ]
    }
   ],
   "source": [
    "print('solved by CG')\n",
    "print(f'Ax = b: x = {CG(n,A,b)}')"
   ]
  },
  {
   "attachments": {},
   "cell_type": "markdown",
   "metadata": {},
   "source": [
    "## 問3\n",
    "n = 9 の場合の Ax = b の解 x をガウスの消去法および共役勾配法で求めよ。"
   ]
  },
  {
   "cell_type": "code",
   "execution_count": 64,
   "metadata": {},
   "outputs": [
    {
     "name": "stdout",
     "output_type": "stream",
     "text": [
      "[[ 20. -10.   0.   0.   0.   0.   0.   0.   0.]\n",
      " [-10.  20. -10.   0.   0.   0.   0.   0.   0.]\n",
      " [  0. -10.  20. -10.   0.   0.   0.   0.   0.]\n",
      " [  0.   0. -10.  20. -10.   0.   0.   0.   0.]\n",
      " [  0.   0.   0. -10.  20. -10.   0.   0.   0.]\n",
      " [  0.   0.   0.   0. -10.  20. -10.   0.   0.]\n",
      " [  0.   0.   0.   0.   0. -10.  20. -10.   0.]\n",
      " [  0.   0.   0.   0.   0.   0. -10.  20. -10.]\n",
      " [  0.   0.   0.   0.   0.   0.   0. -10.  20.]]\n",
      "[[  0.   0.   0.   0.   0.   0.   0. -10.  20.]\n",
      " [  0.   0.   0.   0.   0.   0. -10.  20. -10.]\n",
      " [  0.   0.   0.   0.   0. -10.  20. -10.   0.]\n",
      " [  0.   0.   0.   0. -10.  20. -10.   0.   0.]\n",
      " [  0.   0.   0. -10.  20. -10.   0.   0.   0.]\n",
      " [  0.   0. -10.  20. -10.   0.   0.   0.   0.]\n",
      " [  0. -10.  20. -10.   0.   0.   0.   0.   0.]\n",
      " [-10.  20. -10.   0.   0.   0.   0.   0.   0.]\n",
      " [ 20. -10.   0.   0.   0.   0.   0.   0.   0.]]\n",
      "[-0.1 -0.1 -0.1 -0.1 -0.1 -0.1 -0.1 -0.1 -0.1]\n",
      "[-0.1 -0.1 -0.1 -0.1 -0.1 -0.1 -0.1 -0.1 -0.1]\n",
      "solved by Gauss\n",
      "Ax = b : x = [-0.045 -0.08  -0.105 -0.12  -0.125 -0.12  -0.105 -0.08  -0.045]\n",
      "solved by CG\n",
      "Ax = b : x = [-0.045 -0.08  -0.105 -0.12  -0.125 -0.12  -0.105 -0.08  -0.045]\n"
     ]
    }
   ],
   "source": [
    "n = 9\n",
    "Inits = createInitMats(n)\n",
    "A,b = Inits['A'], Inits['b']\n",
    "\n",
    "print('solved by Gauss')\n",
    "print(f'Ax = b : x = {gausselimination_withpivot(n,A,b)}')\n",
    "\n",
    "print('solved by CG')\n",
    "print(f'Ax = b : x = {CG(n,A,b)}')"
   ]
  },
  {
   "attachments": {},
   "cell_type": "markdown",
   "metadata": {},
   "source": [
    "## 第4問\n",
    "\n",
    "行列のサイズ n が大きい場合と小さい場合で、Ax = b の解 x をガウスの消去法で求めた場合と共役勾配法で求めた場合のどちらのソルバーを使った方が演算数が少なくなるか議論せよ。A が疎行列の場合 (A の非ゼロ成分が少ない)、密行列 (A の非ゼロ成分が多い) の場合ではどうなるか。なお、共役勾配法は最大で n 反復で収束することを仮定してよい。"
   ]
  },
  {
   "cell_type": "code",
   "execution_count": 71,
   "metadata": {},
   "outputs": [],
   "source": [
    "n = 2**7\n",
    "Inits = createInitMats(n)\n",
    "A,b = Inits['A'], Inits['b']"
   ]
  },
  {
   "cell_type": "code",
   "execution_count": 72,
   "metadata": {},
   "outputs": [
    {
     "name": "stdout",
     "output_type": "stream",
     "text": [
      "solved by Gauss\n",
      "Ax = b : x = [-0.00384592 -0.00763175 -0.01135749 -0.01502314 -0.01862869 -0.02217415\n",
      " -0.02565952 -0.02908479 -0.03244997 -0.03575506 -0.03900006 -0.04218496\n",
      " -0.04530978 -0.0483745  -0.05137912 -0.05432366 -0.0572081  -0.06003245\n",
      " -0.06279671 -0.06550087 -0.06814494 -0.07072892 -0.07325281 -0.0757166\n",
      " -0.07812031 -0.08046391 -0.08274743 -0.08497086 -0.08713419 -0.08923743\n",
      " -0.09128057 -0.09326363 -0.09518659 -0.09704946 -0.09885223 -0.10059492\n",
      " -0.10227751 -0.10390001 -0.10546241 -0.10696473 -0.10840695 -0.10978908\n",
      " -0.11111111 -0.11237305 -0.11357491 -0.11471666 -0.11579833 -0.1168199\n",
      " -0.11778138 -0.11868277 -0.11952407 -0.12030527 -0.12102638 -0.1216874\n",
      " -0.12228832 -0.12282916 -0.1233099  -0.12373055 -0.1240911  -0.12439156\n",
      " -0.12463193 -0.12481221 -0.1249324  -0.12499249 -0.12499249 -0.1249324\n",
      " -0.12481221 -0.12463193 -0.12439156 -0.1240911  -0.12373055 -0.1233099\n",
      " -0.12282916 -0.12228832 -0.1216874  -0.12102638 -0.12030527 -0.11952407\n",
      " -0.11868277 -0.11778138 -0.1168199  -0.11579833 -0.11471666 -0.11357491\n",
      " -0.11237305 -0.11111111 -0.10978908 -0.10840695 -0.10696473 -0.10546241\n",
      " -0.10390001 -0.10227751 -0.10059492 -0.09885223 -0.09704946 -0.09518659\n",
      " -0.09326363 -0.09128057 -0.08923743 -0.08713419 -0.08497086 -0.08274743\n",
      " -0.08046391 -0.07812031 -0.0757166  -0.07325281 -0.07072892 -0.06814494\n",
      " -0.06550087 -0.06279671 -0.06003245 -0.0572081  -0.05432366 -0.05137912\n",
      " -0.0483745  -0.04530978 -0.04218496 -0.03900006 -0.03575506 -0.03244997\n",
      " -0.02908479 -0.02565952 -0.02217415 -0.01862869 -0.01502314 -0.01135749\n",
      " -0.00763175 -0.00384592]\n"
     ]
    }
   ],
   "source": [
    "print('solved by Gauss')\n",
    "print(f'Ax = b : x = \\n{gausselimination_withpivot(n,A,b)}')"
   ]
  },
  {
   "cell_type": "code",
   "execution_count": 73,
   "metadata": {},
   "outputs": [
    {
     "name": "stdout",
     "output_type": "stream",
     "text": [
      "solved by CG\n",
      "Ax = b : x = [-1.83763835e+101  1.42305507e+103  1.42997722e+103 -6.14577754e+102\n",
      "  7.43242335e+102  2.27322798e+102 -8.58256289e+102 -4.30881703e+101\n",
      "  2.65797149e+101  9.97929772e+100  8.18951020e+099 -1.92067565e+100\n",
      "  5.53040723e+099 -2.04364815e+099  4.33260468e+098  5.63606081e+097\n",
      " -2.93883785e+098  3.00013591e+097 -4.00749121e+097 -6.69686885e+096\n",
      " -1.49824742e+096  2.70068163e+095  3.66570248e+095 -6.76148558e+094\n",
      "  1.18532392e+094  8.03397223e+093 -4.32973382e+090  1.75196050e+092\n",
      " -6.75675830e+091  1.01238354e+092 -5.59699122e+091 -3.61462425e+091\n",
      " -6.99928370e+090  4.07159346e+090 -4.73304756e+089  3.10754685e+088\n",
      " -1.48360383e+088  6.56582479e+086  5.10349660e+087 -2.27276968e+086\n",
      "  8.88314640e+086 -3.63125782e+086  6.14790050e+085 -1.08853088e+085\n",
      "  1.22374190e+085 -8.28422639e+083  1.30846586e+083 -2.80003331e+083\n",
      "  2.19130141e+081 -9.55196708e+081  1.24834538e+081  2.77037150e+081\n",
      "  9.74758169e+080  1.17790298e+080 -1.61902959e+080 -8.94987359e+078\n",
      " -3.24930575e+078 -4.19621725e+077 -2.16273246e+077  9.93278265e+076\n",
      "  6.37172244e+075  6.33376752e+075 -6.75209187e+075  8.35064968e+074\n",
      " -3.35656053e+073  3.17550358e+073 -6.56162097e+072  6.91124406e+072\n",
      "  5.19744810e+071 -6.70222193e+070  1.92018255e+070  2.23442628e+070\n",
      " -2.79771368e+069  1.42279435e+068  2.61318644e+068  4.29585420e+067\n",
      " -2.40696704e+067  1.48837905e+066  4.83340300e+065  1.21826386e+065\n",
      "  7.55705533e+063 -8.56846274e+062  1.30582964e+063 -4.26920732e+062\n",
      "  3.13558800e+060 -5.57642094e+060  1.17024985e+060  5.26831392e+059\n",
      "  1.72697065e+059 -1.94062691e+058  1.11969592e+058 -6.36911343e+056\n",
      " -6.49307431e+054 -1.71944918e+055 -2.15017394e+054 -8.40249511e+053\n",
      " -4.91060899e+052 -8.15726753e+051 -4.83312490e+050 -2.72940116e+050\n",
      " -2.14682995e+049  8.80193873e+048 -7.62113297e+047  3.82128047e+046\n",
      "  8.89510727e+045 -5.39327023e+044  5.09108577e+043 -5.98913057e+042\n",
      " -3.44789766e+042  1.12187598e+041  3.68750068e+039 -9.90898490e+038\n",
      "  1.74817925e+038 -1.55872217e+037 -3.25755440e+035  5.43195873e+034\n",
      " -1.63094358e+033 -4.63579701e+032  2.01667981e+031 -3.46106762e+029\n",
      " -1.23877384e+028 -5.85469992e+026  8.70516411e+024  2.96200750e+024\n",
      "  1.29865264e+022  3.02621348e+020  8.89972979e+017  1.73584004e+016]\n"
     ]
    }
   ],
   "source": [
    "print('solved by CG')\n",
    "print(f'Ax = b : x = {CG(n,A,b)}')"
   ]
  },
  {
   "cell_type": "code",
   "execution_count": 74,
   "metadata": {},
   "outputs": [],
   "source": [
    "import time"
   ]
  },
  {
   "cell_type": "code",
   "execution_count": 78,
   "metadata": {},
   "outputs": [
    {
     "name": "stdout",
     "output_type": "stream",
     "text": [
      "solved by Gauss\n",
      "solved by CG\n",
      "Gauss : 0.9785678000000075, CG : 72.01706770000004\n"
     ]
    }
   ],
   "source": [
    "n = 2**7\n",
    "Inits = createInitMats(n)\n",
    "A,b = Inits['A'], Inits['b']\n",
    "\n",
    "start = time.process_time()\n",
    "\n",
    "print('solved by Gauss')\n",
    "# print(f'Ax = b : x = {gausselimination_withpivot(n,A,b)}')\n",
    "gausselimination_withpivot(n,A,b)\n",
    "\n",
    "middle = time.process_time()\n",
    "\n",
    "print('solved by CG')\n",
    "# print(f'Ax = b : x = {CG(n,A,b)}')\n",
    "CG(n,A,b)\n",
    "\n",
    "end = time.process_time()\n",
    "\n",
    "print(f'Gauss : {middle - start}, CG : {end - middle}')\n"
   ]
  },
  {
   "cell_type": "code",
   "execution_count": 75,
   "metadata": {},
   "outputs": [
    {
     "name": "stdout",
     "output_type": "stream",
     "text": [
      "solved by Gauss\n",
      "solved by CG\n",
      "Gauss : 0.02212170000001379, CG : 1.559478200000001\n"
     ]
    }
   ],
   "source": [
    "n = 2**5\n",
    "Inits = createInitMats(n)\n",
    "A,b = Inits['A'], Inits['b']\n",
    "\n",
    "start = time.process_time()\n",
    "\n",
    "print('solved by Gauss')\n",
    "# print(f'Ax = b : x = {gausselimination_withpivot(n,A,b)}')\n",
    "gausselimination_withpivot(n,A,b)\n",
    "\n",
    "middle = time.process_time()\n",
    "\n",
    "print('solved by CG')\n",
    "# print(f'Ax = b : x = {CG(n,A,b)}')\n",
    "CG(n,A,b)\n",
    "\n",
    "end = time.process_time()\n",
    "\n",
    "print(f'Gauss : {middle - start}, CG : {end - middle}')\n"
   ]
  },
  {
   "cell_type": "code",
   "execution_count": 76,
   "metadata": {},
   "outputs": [
    {
     "name": "stdout",
     "output_type": "stream",
     "text": [
      "solved by Gauss\n",
      "solved by CG\n",
      "Gauss : 0.0012648000000012871, CG : 0.04252839999998059\n"
     ]
    }
   ],
   "source": [
    "n = 2**3\n",
    "Inits = createInitMats(n)\n",
    "A,b = Inits['A'], Inits['b']\n",
    "\n",
    "start = time.process_time()\n",
    "\n",
    "print('solved by Gauss')\n",
    "# print(f'Ax = b : x = {gausselimination_withpivot(n,A,b)}')\n",
    "gausselimination_withpivot(n,A,b)\n",
    "\n",
    "middle = time.process_time()\n",
    "\n",
    "print('solved by CG')\n",
    "# print(f'Ax = b : x = {CG(n,A,b)}')\n",
    "CG(n,A,b)\n",
    "\n",
    "end = time.process_time()\n",
    "\n",
    "print(f'Gauss : {middle - start}, CG : {end - middle}')\n"
   ]
  },
  {
   "cell_type": "code",
   "execution_count": 77,
   "metadata": {},
   "outputs": [
    {
     "name": "stdout",
     "output_type": "stream",
     "text": [
      "solved by Gauss\n",
      "solved by CG\n",
      "Gauss : 0.0019729999999640313, CG : 0.004365100000029543\n"
     ]
    }
   ],
   "source": [
    "n = 2**1\n",
    "Inits = createInitMats(n)\n",
    "A,b = Inits['A'], Inits['b']\n",
    "\n",
    "start = time.process_time()\n",
    "\n",
    "print('solved by Gauss')\n",
    "# print(f'Ax = b : x = {gausselimination_withpivot(n,A,b)}')\n",
    "gausselimination_withpivot(n,A,b)\n",
    "\n",
    "middle = time.process_time()\n",
    "\n",
    "print('solved by CG')\n",
    "# print(f'Ax = b : x = {CG(n,A,b)}')\n",
    "CG(n,A,b)\n",
    "\n",
    "end = time.process_time()\n",
    "\n",
    "print(f'Gauss : {middle - start}, CG : {end - middle}')\n"
   ]
  },
  {
   "attachments": {},
   "cell_type": "markdown",
   "metadata": {},
   "source": [
    "結果、共益勾配法のほうが時間がかかるという結論に至った。"
   ]
  }
 ],
 "metadata": {
  "kernelspec": {
   "display_name": "Python 3",
   "language": "python",
   "name": "python3"
  },
  "language_info": {
   "codemirror_mode": {
    "name": "ipython",
    "version": 3
   },
   "file_extension": ".py",
   "mimetype": "text/x-python",
   "name": "python",
   "nbconvert_exporter": "python",
   "pygments_lexer": "ipython3",
   "version": "3.8.10 (default, Jun 22 2022, 20:18:18) \n[GCC 9.4.0]"
  },
  "orig_nbformat": 4,
  "vscode": {
   "interpreter": {
    "hash": "916dbcbb3f70747c44a77c7bcd40155683ae19c65e1c03b4aa3499c5328201f1"
   }
  }
 },
 "nbformat": 4,
 "nbformat_minor": 2
}
