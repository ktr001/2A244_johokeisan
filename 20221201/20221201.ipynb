{
  "cells": [
    {
      "cell_type": "markdown",
      "metadata": {
        "id": "D4ObyaP5J-9E"
      },
      "source": [
        "# 情報計算科学の基礎 第1回\n"
      ]
    },
    {
      "cell_type": "markdown",
      "metadata": {
        "id": "B9hhTqTSvr8a"
      },
      "source": [
        "## 利用環境\n",
        "ブラウザとしてGoogle Chromeを推奨（Safariなど他のブラウザではノートブック中の画像が表示されない場合がある）"
      ]
    },
    {
      "cell_type": "markdown",
      "metadata": {
        "id": "uyTL25IPBuT9"
      },
      "source": [
        "## ノートブックのありか\n",
        "Colaboratoryにアップロードされたノートブックは、ログインしているアカウントのGoogleドライブに自動的にアップロードされます。なおノートブックには`ipynb`という拡張子が付けられています。\n"
      ]
    },
    {
      "cell_type": "markdown",
      "metadata": {
        "id": "rDZShACTQ-kU"
      },
      "source": [
        "## ノートブックの開き方\n",
        "今回はローカル環境からノートブックをアップロードしましたが、Googleドライブ上から直接開くことも可能です。Googleドライブ上で対象ファイルを右クリックし「アプリで開く」→「Google Colaboratory」と選択してください。\n",
        "\n",
        "また、ColaboratoryのページからもGoogleドライブ上のノートブックを開くことが可能です。画面左上の「ファイル」タブから「ノートブックを開く」を選択し、「Googleドライブ」タブから対象のノートブックを選択してください。"
      ]
    },
    {
      "cell_type": "markdown",
      "metadata": {
        "id": "QENSN0VWnBr8"
      },
      "source": [
        "## ノートブックの名前の変更\n",
        "ページ左上に表示されているのがノートブックの名前です(今回は「20211129.ipynb」)。ここにカーソルを持っていくことでノートブックの名前を編集することができます。"
      ]
    },
    {
      "cell_type": "markdown",
      "metadata": {
        "id": "vkao_EFrVcik"
      },
      "source": [
        "## ノートブックの保存\n",
        "\n",
        "変更したノートブックは`Ctrl (Cmd) + S`で上書き保存することができます。また、Colaboratoryの「ファイル」メニューから「保存」を選択することでも同様に上書き保存が可能です。"
      ]
    },
    {
      "cell_type": "markdown",
      "metadata": {
        "id": "4Xh-6DA6U7Sg"
      },
      "source": [
        "## ノートブックのダウンロード\n",
        "ノートブックをローカル環境にダウンロードするためには、Colaboratoryの「ファイル」メニューから「ダウンロード」→「.ipynbをダウンロード」を選択してください。\n",
        "\n",
        "また、Googleドライブ上から直接ダウンロードすることも可能です。"
      ]
    },
    {
      "cell_type": "markdown",
      "metadata": {
        "id": "d4NF9sd6XvC0"
      },
      "source": [
        "## ノートブックの操作"
      ]
    },
    {
      "cell_type": "markdown",
      "metadata": {
        "id": "vq_Z07HKbWv-"
      },
      "source": [
        "### セルとは\n",
        "ノートブックは主にコードセルとテキストセルから構成されます。\n",
        "\n",
        "* コードセル：\n",
        "Pythonコードが書かれたセルで、Pythonスクリプトが含まれています。コードセルの左端には `[ ]` と表示されています。\n",
        "\n",
        "![](https://drive.google.com/uc?export=view&id=1swkIeWDclXprEqR74viFdn8_VHLaMBPd)\n",
        "\n",
        "コードセル中のコードを実行するには、\n",
        "`[ ]` のところへマウスカーソルを移動してクリックします。\n",
        "`[ ]` のところにマウスカーソルを近付けると、`●`の中に`▷`が表示されます。\n",
        "これは実行ボタンを意味します。\n",
        "\n",
        "![](https://drive.google.com/uc?export=view&id=1O-eqQwvQLl6WjeFGZrfBg2ggmD9Y5TXm)\n",
        "\n",
        "実行ボタンを押すとコードが実行され、その結果がセルの下部に表示されます。なお、セル上でShiftを押しながらEnter（Return）を押すことでも同様に実行することができます。\n",
        "\n",
        "![](https://drive.google.com/uc?export=view&id=1n8TryjfPOythy1giCHFWMUiLIOfoQe9f)\n",
        "\n",
        "ここで`[ ]` の中の数字はこのコードセルがノートブック内にで何番目に実行されたものなのかを示しています。\n",
        "\n",
        "\n",
        "* テキストセル：\n",
        "Pythonスクリプトではなくテキストや画像が含まれているセルです。このセル自身がテキストセルです。ダブルクリックで選択することができ、編集モードに入ることができます。Shiftを押しながらEnter（Return）を押すことで編集モードから抜け出すことができます。"
      ]
    },
    {
      "cell_type": "markdown",
      "metadata": {
        "id": "4hqOW-6Vc7kW"
      },
      "source": [
        "#### 練習"
      ]
    },
    {
      "cell_type": "markdown",
      "metadata": {
        "id": "T89blh3Mbta_"
      },
      "source": [
        "次のコードセルに`print('Hello, World!')`と入力して実行してください。コードセルはクリックすることで選択することができます。"
      ]
    },
    {
      "cell_type": "code",
      "execution_count": null,
      "metadata": {
        "id": "VPTvohWGb1lt"
      },
      "outputs": [],
      "source": [
        "print ('Hello, World!')"
      ]
    },
    {
      "cell_type": "markdown",
      "metadata": {
        "id": "Cu2UTKxdaBZ8"
      },
      "source": [
        "次のテキストセルを編集し、`print('Hello, World!')`と入力してください。テキストセルはダブルクリックで選択することができます。"
      ]
    },
    {
      "cell_type": "markdown",
      "metadata": {
        "id": "rvF-7Q9VaKnO"
      },
      "source": []
    },
    {
      "cell_type": "markdown",
      "metadata": {
        "id": "m_UzXl4z-HXb"
      },
      "source": [
        "### セルの挿入\n",
        "セルを新たに挿入するには、 ファイルメニュー下の「+ コード/テキスト」ボタンを押します。 現在選択されているセルの下にセルが挿入されます。\n",
        "\n",
        "もしくは挿入したい位置にカーソルを合わせ、その際に現れる以下の「+ コード/テキスト」ボタンを押すことでも同様に挿入することができます。"
      ]
    },
    {
      "cell_type": "markdown",
      "metadata": {
        "id": "bRHFE9nYdoSR"
      },
      "source": [
        "以下にテキストセルを挿入し、`10/3`と入力してください。"
      ]
    },
    {
      "cell_type": "markdown",
      "metadata": {
        "id": "GnP4mgHQcQ_T"
      },
      "source": [
        "### セルの実行の止め方\n",
        "コードセルの左端の`●`の中に`□`が表示され、その周りをノの字が回り続けているならば、セルのコードは実行中です。いつまでたってもコードの実行が終了しない場合は、そのアイコンを押してコードの実行を強制終了してください。`●`の中に`□`が表示されたアイコンはストップボタンを意味します。\n",
        "\n",
        "![](https://drive.google.com/uc?export=view&id=1v-7_Ax0vwR9rxE_89QIquvD-66vanwj_)"
      ]
    },
    {
      "cell_type": "markdown",
      "metadata": {
        "id": "42bjizbCnjYO"
      },
      "source": [
        "#### 練習\n",
        "次のコードはいわゆる無限ループを引き起こすコードで、いつまでたっても実行が終了しません。プレイボタンを押し実行中であることを確かめてから、ストップボタンを押して強制終了してください。"
      ]
    },
    {
      "cell_type": "code",
      "execution_count": 1,
      "metadata": {
        "id": "hOk1Cv5IcQAV"
      },
      "outputs": [
        {
          "ename": "KeyboardInterrupt",
          "evalue": "",
          "output_type": "error",
          "traceback": [
            "\u001b[1;31m---------------------------------------------------------------------------\u001b[0m",
            "\u001b[1;31mKeyboardInterrupt\u001b[0m                         Traceback (most recent call last)",
            "Cell \u001b[1;32mIn[1], line 2\u001b[0m\n\u001b[0;32m      1\u001b[0m \u001b[39mwhile\u001b[39;00m \u001b[39mTrue\u001b[39;00m:\n\u001b[1;32m----> 2\u001b[0m     \u001b[39mpass\u001b[39;00m\n",
            "\u001b[1;31mKeyboardInterrupt\u001b[0m: "
          ]
        }
      ],
      "source": [
        "while True:\n",
        "    pass"
      ]
    },
    {
      "cell_type": "markdown",
      "metadata": {
        "id": "JxXOYlTTh7vP"
      },
      "source": [
        "### セルの編集\n",
        "セルを選択すると下図のようにセルの右上に様々なボタンが表示されます。これらを押すことにより、セルの削除、コピーペーストなどのセルに対する各種の操作を行うことができます。\n",
        "\n",
        "![](https://drive.google.com/uc?export=view&id=1E9didDvYvC6E6UQAOYbmoO2vTlZnUug0)"
      ]
    },
    {
      "cell_type": "markdown",
      "metadata": {
        "id": "e4OeIsU3jRKv"
      },
      "source": [
        "## pythonプログラミングの基礎"
      ]
    },
    {
      "cell_type": "markdown",
      "metadata": {
        "id": "TjOzfwXNjeQH"
      },
      "source": [
        "### ループ処理"
      ]
    },
    {
      "cell_type": "code",
      "execution_count": 2,
      "metadata": {
        "id": "nubck3Gljjp6"
      },
      "outputs": [
        {
          "name": "stdout",
          "output_type": "stream",
          "text": [
            "0\n",
            "1\n",
            "2\n",
            "3\n",
            "4\n",
            "5\n",
            "6\n"
          ]
        }
      ],
      "source": [
        "# i=0 から stop-1 までの連番の処理\n",
        "stop = 7\n",
        "for i in range(stop):\n",
        "    print(i)"
      ]
    },
    {
      "cell_type": "code",
      "execution_count": null,
      "metadata": {
        "id": "6ChkgWtsjqi4"
      },
      "outputs": [],
      "source": [
        "# i=start から stop-1 までの連番の処理\n",
        "start = 2\n",
        "stop = 5\n",
        "for i in range(start,stop):\n",
        "    print(i)"
      ]
    },
    {
      "cell_type": "code",
      "execution_count": null,
      "metadata": {
        "id": "Xc1d8jpZjty7"
      },
      "outputs": [],
      "source": [
        "# i=start から stop-1 までの step おきの処理\n",
        "start = 2\n",
        "stop = 10\n",
        "step = 3\n",
        "for i in range(start,stop,step):\n",
        "    print(i)"
      ]
    },
    {
      "cell_type": "code",
      "execution_count": null,
      "metadata": {
        "id": "oXm6tEIPjxEE"
      },
      "outputs": [],
      "source": [
        "# step が負の場合\n",
        "# i=start から stop+1 までの step おきの処理となる\n",
        "start = 7\n",
        "stop = -3\n",
        "step = -2\n",
        "for i in range(start,stop,step):\n",
        "    print(i)"
      ]
    },
    {
      "cell_type": "markdown",
      "metadata": {
        "id": "Y4rkXiiUj2Lx"
      },
      "source": [
        "### ベクトルの和・内積の計算"
      ]
    },
    {
      "cell_type": "code",
      "execution_count": null,
      "metadata": {
        "id": "3ma2uk1xj32b"
      },
      "outputs": [],
      "source": [
        "# Numpy を使うので，Numpy のライブラリーをインポート\n",
        "import numpy as np\n",
        "\n",
        "# 配列の初期化\n",
        "a = np.array([1,2,3])\n",
        "b = np.array([3,2,1])\n",
        "c = np.zeros((3)) # すべての成分がゼロのサイズ3のベクトル\n",
        "\n",
        "# c = a + b を計算\n",
        "for i in range(3):\n",
        "    # x[i] はベクトルx の 第i成分を表す．\n",
        "    c[i] = a[i] + b[i]\n",
        "\n",
        "# 計算結果の出力\n",
        "print(\"a+b=\",c)\n",
        "\n",
        "# 内積 (a,b) の計算\n",
        "ab = 0\n",
        "for i in range(3):\n",
        "  ab += a[i]*b[i]\n",
        "\n",
        "# 計算結果の出力\n",
        "print(\"ab=\",ab)"
      ]
    },
    {
      "cell_type": "markdown",
      "metadata": {
        "id": "6JlzzdW2j-Fd"
      },
      "source": [
        "### 行列の和の計算\n"
      ]
    },
    {
      "cell_type": "code",
      "execution_count": null,
      "metadata": {
        "id": "TvZHAP2UkB1A"
      },
      "outputs": [],
      "source": [
        "# Numpy を使うので，Numpy のライブラリーをインポート\n",
        "import numpy as np\n",
        "\n",
        "# 配列の初期化\n",
        "A = np.array([[1,2,3],\n",
        "              [2,3,5]])\n",
        "B = np.array([[3,2,1],\n",
        "              [-3,0,5]])\n",
        "C = np.zeros((2,3)) # すべての成分がゼロの2x3の行列\n",
        "p = 3\n",
        "# C = A+pB を計算\n",
        "for i in range(2):\n",
        "  for j in range(3):\n",
        "    # X[i][j] は行列X の (i,j)成分を表す．\n",
        "    C[i][j] = A[i][j] + p*B[i][j]\n",
        "\n",
        "# 計算結果の出力\n",
        "print(C)"
      ]
    },
    {
      "cell_type": "markdown",
      "metadata": {
        "id": "2apGkW35KMsa"
      },
      "source": [
        "## 練習問題（今回は提出の必要はありません）\n",
        "\n",
        "D = ((3,-2),(7,0),(3,5),(-9,2))\n",
        "E = ((1,-2,3),(2,7,1))\n",
        "としたとき，行列の積F=D Eを計算し，Fの成分を出力してください．\n",
        "\n",
        "### 注意\n",
        "* 以下の回答セルにある関数を編集して回答してください\n",
        "* 行列計算ライブラリ等は使用せず、四則演算(と代入)、 for 文やif 文を使用して実装してください\n"
      ]
    },
    {
      "cell_type": "markdown",
      "metadata": {
        "id": "4ZVZmliwWqhR"
      },
      "source": [
        "### 回答セル"
      ]
    },
    {
      "cell_type": "code",
      "execution_count": null,
      "metadata": {},
      "outputs": [],
      "source": []
    },
    {
      "cell_type": "code",
      "execution_count": null,
      "metadata": {
        "id": "OP-vOpcBKHcb"
      },
      "outputs": [],
      "source": [
        "# このセルを編集して回答してください\n",
        "\n",
        "# sampleです\n",
        "def mygemm423(a, b):\n",
        "    bnp = np.array(b)\n",
        "    \n",
        "    \n",
        "    return a + b"
      ]
    },
    {
      "cell_type": "markdown",
      "metadata": {
        "id": "rNTwmmGNLzhG"
      },
      "source": [
        "### 回答例"
      ]
    },
    {
      "cell_type": "code",
      "execution_count": null,
      "metadata": {
        "id": "8qcRFZOlkQ0b"
      },
      "outputs": [],
      "source": [
        "def gemm423(D,E):\n",
        "    F = np.zeros((4,3)) # すべての成分がゼロの4x3の行列\n",
        "    # F = DE を計算\n",
        "    for i in range(4):\n",
        "      for j in range(3):\n",
        "        for k in range(2):\n",
        "          F[i][j] = F[i][j] + D[i][k]*E[k][j]\n",
        "    return F"
      ]
    },
    {
      "cell_type": "code",
      "execution_count": null,
      "metadata": {
        "id": "u6Xsp5b5MFYn"
      },
      "outputs": [],
      "source": [
        "D = np.array([[3,-2],\n",
        "              [7,0],\n",
        "              [3,5],\n",
        "              [-9,2]])\n",
        "E = np.array([[1,-2,3],\n",
        "              [2,7,1]])\n",
        "F = gemm423(D,E)\n",
        "\n",
        "# 計算結果の出力\n",
        "print(F)"
      ]
    }
  ],
  "metadata": {
    "colab": {
      "collapsed_sections": [
        "rNTwmmGNLzhG"
      ],
      "name": "20211129.ipynb",
      "provenance": []
    },
    "kernelspec": {
      "display_name": "Python 3.9.5 64-bit",
      "language": "python",
      "name": "python3"
    },
    "language_info": {
      "codemirror_mode": {
        "name": "ipython",
        "version": 3
      },
      "file_extension": ".py",
      "mimetype": "text/x-python",
      "name": "python",
      "nbconvert_exporter": "python",
      "pygments_lexer": "ipython3",
      "version": "3.9.5"
    },
    "vscode": {
      "interpreter": {
        "hash": "81794d4967e6c3204c66dcd87b604927b115b27c00565d3d43f05ba2f3a2cb0d"
      }
    }
  },
  "nbformat": 4,
  "nbformat_minor": 0
}
