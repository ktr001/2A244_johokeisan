{
 "cells": [
  {
   "cell_type": "code",
   "execution_count": null,
   "metadata": {},
   "outputs": [],
   "source": []
  },
  {
   "attachments": {},
   "cell_type": "markdown",
   "metadata": {},
   "source": [
    "# 情報計算科学の基礎 \n",
    "レポート2\n",
    "\n",
    "$d^2u/dx^2 = 0$\n",
    "\n",
    "$u=0@x=0, u=1@x=1$\n",
    "\n"
   ]
  },
  {
   "cell_type": "code",
   "execution_count": 2,
   "metadata": {},
   "outputs": [],
   "source": [
    "import numpy as np\n",
    "import math\n",
    "\n",
    "def gausselimination_withpivot(n,A,b):\n",
    "  x = np.zeros(n)\n",
    "  Aorg = np.copy(A)\n",
    "  borg = np.copy(b)\n",
    "\n",
    "  #前進消去\n",
    "  for j in range(n):\n",
    "    #ピポット選択\n",
    "    if A[j][j] == 0:\n",
    "      list = [A[i][j] for i in range(j+1,n)]\n",
    "      abs_list = [abs(i) for i in list]\n",
    "      m = abs_list.index(max(abs_list))\n",
    "      p = m + j + 1\n",
    "      #交換\n",
    "      b[j],b[p] = b[p],b[j]\n",
    "      for c in range(n):\n",
    "        A[j][c],A[p][c] = A[p][c],A[j][c]\n",
    "\n",
    "    for i in range(j+1,n,1):\n",
    "      coe=-A[i][j]/A[j][j]\n",
    "      for k in range(j,n,1):\n",
    "        A[i][k]+=coe*A[j][k]\n",
    "      b[i]+=coe*b[j]\n",
    "    \n",
    "  #後退代入・結果出力\n",
    "  for j in range(n-1,-1,-1):\n",
    "    btmp=b[j]\n",
    "    for i in range(n-1,j,-1):\n",
    "      btmp -= A[j][i]*x[i]\n",
    "    x[j]=btmp/A[j][j]\n",
    "  return x\n",
    "\n",
    "\n",
    "\n",
    "def create_K_elem(node_from,node_to):\n",
    "  ds = abs(node_to - node_from)\n",
    "  return np.array(([1/ds,-1/ds],[-1/ds,1/ds]))\n",
    "\n",
    "\n",
    "def fill_K_glob(coord:list,N_SIZE_in:int):\n",
    "    K_glob_in = np.zeros((N_SIZE_in,N_SIZE_in))\n",
    "    K_elems = list()\n",
    "    for i in range(N_SIZE_in - 1):\n",
    "        K_elems.append(create_K_elem(coord[i],coord[i+1]))\n",
    "        K_glob_in[i][i]     += K_elems[i][0][0]\n",
    "        K_glob_in[i][i+1]   += K_elems[i][0][1]\n",
    "        K_glob_in[i+1][i]   += K_elems[i][1][0]\n",
    "        K_glob_in[i+1][i+1] += K_elems[i][1][1]\n",
    "    return K_glob_in\n",
    "\n",
    "def solve_with_cricon(N_SIZE_in:int,K_glob_in,b_in,U_init:list):\n",
    "    K_del = np.delete(K_glob_in,[0,-1],0)\n",
    "    # print(K_del)\n",
    "    b_del = b_in[1:-1]\n",
    "    # print(b_del)\n",
    "    u_known = np.array(U_init)\n",
    "    # print(u_known)\n",
    "    K_known = np.delete(K_del,slice(1,-1,1),1)\n",
    "    K_unknown = np.delete(K_del,[0,-1],1)\n",
    "    # print('K_known')\n",
    "    # print(K_known)\n",
    "    # print('K_unknown')\n",
    "    # print(K_unknown)\n",
    "\n",
    "    b_prime = b_del - (K_known @ u_known)\n",
    "    # print(b_prime)\n",
    "\n",
    "    u = gausselimination_withpivot(N_SIZE_in-2,K_unknown,b_prime)\n",
    "    print(u)\n",
    "    # u.insert(0,U_0)\n",
    "    # u.append(U_LAST)\n",
    "    return np.insert(np.insert(u,len(u),U_init[1]), 0, U_init[0])\n"
   ]
  },
  {
   "attachments": {},
   "cell_type": "markdown",
   "metadata": {},
   "source": [
    "1. u(x) の理論解を求めよ。\n",
    "\n",
    "$ u = x $ \n",
    "が理論会となる"
   ]
  },
  {
   "cell_type": "code",
   "execution_count": 3,
   "metadata": {},
   "outputs": [],
   "source": [
    "U_0,U_LAST = 0,1"
   ]
  },
  {
   "attachments": {},
   "cell_type": "markdown",
   "metadata": {},
   "source": [
    "2. Fig. 1 のメッシュ(一次元の線形要素) を使って u(x) を求め、解析解と比較\n",
    "せよ。\n"
   ]
  },
  {
   "cell_type": "code",
   "execution_count": 4,
   "metadata": {},
   "outputs": [
    {
     "name": "stdout",
     "output_type": "stream",
     "text": [
      "[[ 4. -4.  0.  0.]\n",
      " [-4.  8. -4.  0.]\n",
      " [ 0. -4.  6. -2.]\n",
      " [ 0.  0. -2.  2.]]\n",
      "[0.25 0.5 ]\n",
      "[0.   0.25 0.5  1.  ]\n"
     ]
    }
   ],
   "source": [
    "COORD = [0.00,0.25,0.50,1.0]\n",
    "N_SIZE = len(COORD)\n",
    "\n",
    "K_glob = fill_K_glob(COORD,N_SIZE)\n",
    "print(K_glob)\n",
    "\n",
    "answer = solve_with_cricon(N_SIZE,K_glob,np.zeros(N_SIZE),[U_0,U_LAST])\n",
    "\n",
    "print(answer)\n",
    "\n",
    "\n",
    "\n",
    "# u = gausselimination_withpivot(N_SIZE,K_glob,np.zeros(N_SIZE))\n",
    "\n",
    "\n"
   ]
  },
  {
   "attachments": {},
   "cell_type": "markdown",
   "metadata": {},
   "source": [
    "これは、理論解と一致する。\n",
    "(結果の配列=COORD となっているので、　x=yとなっている)"
   ]
  },
  {
   "attachments": {},
   "cell_type": "markdown",
   "metadata": {},
   "source": [
    "3. Fig. 2 のメッシュ(一次元の線形要素) を使って u(x) を求め、解析解と比較\n",
    "せよ。\n"
   ]
  },
  {
   "cell_type": "code",
   "execution_count": 5,
   "metadata": {},
   "outputs": [
    {
     "name": "stdout",
     "output_type": "stream",
     "text": [
      "[0.0, 0.1, 0.2, 0.3, 0.4, 0.5, 0.6, 0.7, 0.8, 0.9, 1.0]\n",
      "[0.1 0.2 0.3 0.4 0.5 0.6 0.7 0.8 0.9]\n",
      "[0.  0.1 0.2 0.3 0.4 0.5 0.6 0.7 0.8 0.9 1. ]\n"
     ]
    }
   ],
   "source": [
    "COORD = [x/10 for x in range(0,11,1) ]\n",
    "N_SIZE = len(COORD)\n",
    "\n",
    "print(COORD)\n",
    "\n",
    "K_glob = fill_K_glob(COORD,N_SIZE)\n",
    "# print(K_glob)\n",
    "\n",
    "answer = solve_with_cricon(N_SIZE,K_glob,np.zeros(N_SIZE),[U_0,U_LAST])\n",
    "\n",
    "print(answer)"
   ]
  },
  {
   "attachments": {},
   "cell_type": "markdown",
   "metadata": {},
   "source": [
    "これも、理論解と一致する。"
   ]
  },
  {
   "attachments": {},
   "cell_type": "markdown",
   "metadata": {},
   "source": [
    "4. 加点対象（必須ではないがあれば加点します）：Fig. 3 のメッシュ(一次元の\n",
    "線形要素) を使って u(x) を求め、解析解と比較せよ。Fig. 1, 2 のメッシュ\n",
    "のように節点番号・要素番号が昇順に並んでいた場合と比べ、どのように\n",
    "データ構造・プログラムを変更する必要があったか説明せよ。\n"
   ]
  },
  {
   "attachments": {},
   "cell_type": "markdown",
   "metadata": {},
   "source": [
    "まず、coordの順番を変えず、間隔のみ変更したコードを実行する。"
   ]
  },
  {
   "cell_type": "code",
   "execution_count": 6,
   "metadata": {},
   "outputs": [
    {
     "name": "stdout",
     "output_type": "stream",
     "text": [
      "[0, 0.125, 0.3, 0.45, 0.55, 0.6, 0.75, 0.9, 1.0]\n",
      "[0.125 0.3   0.45  0.55  0.6   0.75  0.9  ]\n",
      "[0.    0.125 0.3   0.45  0.55  0.6   0.75  0.9   1.   ]\n"
     ]
    }
   ],
   "source": [
    "COORD = [0, 0.125, 0.3, 0.45, 0.55, 0.6, 0.75, 0.9, 1.0]\n",
    "N_SIZE = len(COORD)\n",
    "\n",
    "print(COORD)\n",
    "\n",
    "K_glob = fill_K_glob(COORD,N_SIZE)\n",
    "# print(K_glob)\n",
    "\n",
    "answer = solve_with_cricon(N_SIZE,K_glob,np.zeros(N_SIZE),[U_0,U_LAST])\n",
    "\n",
    "print(answer)"
   ]
  },
  {
   "attachments": {},
   "cell_type": "markdown",
   "metadata": {},
   "source": [
    "次に、coordの順番を変えたものを実行する。"
   ]
  },
  {
   "cell_type": "code",
   "execution_count": null,
   "metadata": {},
   "outputs": [],
   "source": [
    "COORD_ORIG = [0, 0.9, 0.3, 0.125, 0.55, 0.45, 0.75, 0.6, 1.0]\n",
    "MAPING = [\n",
    "        [6,1],\n",
    "        [0,3],\n",
    "        [2,5],\n",
    "        [5,4],\n",
    "        [3,2],\n",
    "        [7,6],\n",
    "        [4,7],\n",
    "        [1,8]\n",
    "    ]\n",
    "\n",
    "N_SIZE = len(COORD)\n",
    "\n",
    "print(COORD)\n",
    "\n",
    "K_glob = fill_K_glob(COORD,N_SIZE)\n",
    "# print(K_glob)\n",
    "\n",
    "answer = solve_with_cricon(N_SIZE,K_glob,np.zeros(N_SIZE),[U_0,U_LAST])\n",
    "\n",
    "print(answer)"
   ]
  }
 ],
 "metadata": {
  "kernelspec": {
   "display_name": "env",
   "language": "python",
   "name": "python3"
  },
  "language_info": {
   "codemirror_mode": {
    "name": "ipython",
    "version": 3
   },
   "file_extension": ".py",
   "mimetype": "text/x-python",
   "name": "python",
   "nbconvert_exporter": "python",
   "pygments_lexer": "ipython3",
   "version": "3.8.10 (default, Nov 14 2022, 12:59:47) \n[GCC 9.4.0]"
  },
  "orig_nbformat": 4,
  "vscode": {
   "interpreter": {
    "hash": "f7feb82588f236b9d63374c0be9680b92e6f13c4b42ed2d20572ed6241fd5da9"
   }
  }
 },
 "nbformat": 4,
 "nbformat_minor": 2
}
