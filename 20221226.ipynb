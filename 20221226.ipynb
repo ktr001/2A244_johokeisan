{
  "cells": [
    {
      "cell_type": "markdown",
      "metadata": {
        "id": "tN0em0dM1Gfx"
      },
      "source": [
        "# 情報計算科学の基礎 演習2"
      ]
    },
    {
      "cell_type": "markdown",
      "metadata": {
        "id": "z6NpKbj1Ysga"
      },
      "source": [
        "以下に、ガウスの消去法（ピボットなし）を使って方程式 $Ax=b$ を解くプログラムを示します。ガウスの消去法（ピボットあり）及び共役勾配法を実装し，以下のプログラムを参考に、求解法や方程式を変えて、レポート課題1に取り組んでください。"
      ]
    },
    {
      "cell_type": "markdown",
      "metadata": {
        "id": "m1-71DZLVs-E"
      },
      "source": [
        "## ガウスの消去法（ピボットなし）の関数の定義"
      ]
    },
    {
      "cell_type": "code",
      "execution_count": 18,
      "metadata": {
        "id": "CtULzKuoVjHZ"
      },
      "outputs": [],
      "source": [
        "# Numpy を使うので，Numpy のライブラリーをインポート\n",
        "import numpy as np\n",
        "\n",
        "def gausselimination_withoutpivot(n,Aorg,borg):\n",
        "  A = np.copy(Aorg)\n",
        "  b = np.copy(borg)\n",
        "  x = np.zeros(n)\n",
        "\n",
        "  # 前進消去\n",
        "  for j in range(0,n,1):\n",
        "    for i in range(j+1,n,1):\n",
        "      coe = -A[i][j]/A[j][j]\n",
        "      for k in range(j,n,1):\n",
        "        A[i][k]+=coe*A[j][k]\n",
        "      b[i]+=coe*b[j]\n",
        "\n",
        "  # 後退代入\n",
        "  for j in range(n-1,-1,-1):\n",
        "    btmp=b[j]\n",
        "    for i in range(n-1,j,-1):\n",
        "      btmp-=A[j][i]*x[i]\n",
        "    x[j]=btmp/A[j][j]\n",
        "\n",
        "  # 結果の出力\n",
        "  return x\n",
        "\n",
        "def gausselimination_withpivot(n,A,b):\n",
        "  x = np.zeros(n)\n",
        "  Aorg = np.copy(A)\n",
        "  borg = np.copy(b)\n",
        "\n",
        "  #前進消去\n",
        "  for j in range(n):\n",
        "    #ピポット選択\n",
        "    if A[j][j] == 0:\n",
        "      list = [A[i][j] for i in range(j+1,n)]\n",
        "      abs_list = [abs(i) for i in list]\n",
        "      m = abs_list.index(max(abs_list))\n",
        "      p = m + j + 1\n",
        "      #交換\n",
        "      b[j],b[p] = b[p],b[j]\n",
        "      for c in range(n):\n",
        "        A[j][c],A[p][c] = A[p][c],A[j][c]\n",
        "\n",
        "    for i in range(j+1,n,1):\n",
        "      coe=-A[i][j]/A[j][j]\n",
        "      for k in range(j,n,1):\n",
        "        A[i][k]+=coe*A[j][k]\n",
        "      b[i]+=coe*b[j]\n",
        "    \n",
        "  #後退代入・結果出力\n",
        "  for j in range(n-1,-1,-1):\n",
        "    btmp=b[j]\n",
        "    for i in range(n-1,j,-1):\n",
        "      btmp -= A[j][i]*x[i]\n",
        "    x[j]=btmp/A[j][j]\n",
        "  return x"
      ]
    },
    {
      "cell_type": "markdown",
      "metadata": {
        "id": "G3IvkXCGV4wL"
      },
      "source": [
        "## 行列$A$, ベクトル$b$ の設定"
      ]
    },
    {
      "cell_type": "code",
      "execution_count": 23,
      "metadata": {
        "colab": {
          "base_uri": "https://localhost:8080/"
        },
        "id": "E6v50xlzWFiA",
        "outputId": "f75d8f94-a700-4330-c2a5-46abe8588f7e"
      },
      "outputs": [
        {
          "name": "stdout",
          "output_type": "stream",
          "text": [
            "[[ 20. -10.   0.   0.   0.   0.   0.   0.   0.]\n",
            " [-10.  20. -10.   0.   0.   0.   0.   0.   0.]\n",
            " [  0. -10.  20. -10.   0.   0.   0.   0.   0.]\n",
            " [  0.   0. -10.  20. -10.   0.   0.   0.   0.]\n",
            " [  0.   0.   0. -10.  20. -10.   0.   0.   0.]\n",
            " [  0.   0.   0.   0. -10.  20. -10.   0.   0.]\n",
            " [  0.   0.   0.   0.   0. -10.  20. -10.   0.]\n",
            " [  0.   0.   0.   0.   0.   0. -10.  20. -10.]\n",
            " [  0.   0.   0.   0.   0.   0.   0. -10.  20.]]\n",
            "[[  0.   0.   0.   0.   0.   0.   0. -10.  20.]\n",
            " [  0.   0.   0.   0.   0.   0. -10.  20. -10.]\n",
            " [  0.   0.   0.   0.   0. -10.  20. -10.   0.]\n",
            " [  0.   0.   0.   0. -10.  20. -10.   0.   0.]\n",
            " [  0.   0.   0. -10.  20. -10.   0.   0.   0.]\n",
            " [  0.   0. -10.  20. -10.   0.   0.   0.   0.]\n",
            " [  0. -10.  20. -10.   0.   0.   0.   0.   0.]\n",
            " [-10.  20. -10.   0.   0.   0.   0.   0.   0.]\n",
            " [ 20. -10.   0.   0.   0.   0.   0.   0.   0.]]\n",
            "[-0.1 -0.1 -0.1 -0.1 -0.1 -0.1 -0.1 -0.1 -0.1]\n",
            "[-0.1 -0.1 -0.1 -0.1 -0.1 -0.1 -0.1 -0.1 -0.1]\n"
          ]
        }
      ],
      "source": [
        "n = 9\n",
        "ds = 1./(n+1)\n",
        "A = np.zeros((n,n)) #すべての成分が0のn×n行列 \n",
        "b = np.zeros(n) #すべての成分が0のサイズnのベクトル\n",
        "for i in range(n):\n",
        "  A[i][i] = 2./ds\n",
        "  b[i] = -ds\n",
        "for i in range(n-1):\n",
        "  A[i][i+1] = -1./ds\n",
        "  A[i+1][i] = -1./ds\n",
        "\n",
        "P = np.array( [[A[n-i-1][j] for j in range(n)] for i in range(n)] )\n",
        "q = np.array( [b[n-i-1] for i in range(n)] )\n",
        "\n",
        "print(A)\n",
        "print(P)\n",
        "\n",
        "print(b)\n",
        "print(q)"
      ]
    },
    {
      "cell_type": "markdown",
      "metadata": {
        "id": "9Z_IBDJKW8ef"
      },
      "source": [
        "## ガウスの消去法（ピボットなし）で $Ax=b$ を解く"
      ]
    },
    {
      "cell_type": "code",
      "execution_count": 20,
      "metadata": {
        "colab": {
          "base_uri": "https://localhost:8080/"
        },
        "id": "_JKFG-IiXIgy",
        "outputId": "d4192537-0189-47be-de87-9b8bc3a3f810"
      },
      "outputs": [
        {
          "name": "stdout",
          "output_type": "stream",
          "text": [
            "[-0.045 -0.08  -0.105 -0.12  -0.125 -0.12  -0.105 -0.08  -0.045]\n"
          ]
        }
      ],
      "source": [
        "x = gausselimination_withoutpivot(n,A,b)\n",
        "print(x)"
      ]
    },
    {
      "cell_type": "code",
      "execution_count": 21,
      "metadata": {
        "colab": {
          "base_uri": "https://localhost:8080/"
        },
        "id": "_JKFG-IiXIgy",
        "outputId": "d4192537-0189-47be-de87-9b8bc3a3f810"
      },
      "outputs": [
        {
          "name": "stdout",
          "output_type": "stream",
          "text": [
            "[-0.045 -0.08  -0.105 -0.12  -0.125 -0.12  -0.105 -0.08  -0.045]\n"
          ]
        }
      ],
      "source": [
        "x = gausselimination_withpivot(n,P,q)\n",
        "print(x)"
      ]
    },
    {
      "cell_type": "code",
      "execution_count": 24,
      "metadata": {},
      "outputs": [
        {
          "name": "stdout",
          "output_type": "stream",
          "text": [
            "[nan nan nan nan nan nan nan nan nan]\n"
          ]
        },
        {
          "name": "stderr",
          "output_type": "stream",
          "text": [
            "/tmp/ipykernel_275/3026029373.py:12: RuntimeWarning: invalid value encountered in scalar divide\n",
            "  coe = -A[i][j]/A[j][j]\n",
            "/tmp/ipykernel_275/3026029373.py:12: RuntimeWarning: divide by zero encountered in scalar divide\n",
            "  coe = -A[i][j]/A[j][j]\n",
            "/tmp/ipykernel_275/3026029373.py:14: RuntimeWarning: invalid value encountered in scalar multiply\n",
            "  A[i][k]+=coe*A[j][k]\n"
          ]
        }
      ],
      "source": [
        "x = gausselimination_withoutpivot(n,P,q)\n",
        "print(x)"
      ]
    },
    {
      "cell_type": "markdown",
      "metadata": {
        "id": "Dq2ULQuYYVLL"
      },
      "source": [
        "## 共役勾配法（Conjugate Gradient method）\n",
        "$\\mathrm{A}x = b$ を解くアルゴリズムを再掲します.\n",
        "\n",
        "1. $x$の初期値 $x_{0}$、許容誤差 $\\varepsilon$ を設定する\n",
        "\n",
        "2. 残差 $r = b - \\mathrm{A}x$ を計算する\n",
        "\n",
        "3. 共役ベクトルを$p = r$とする\n",
        "\n",
        "4. 誤差 $\\mathrm{err} = \\frac{\\displaystyle ||r||_{2}}{\\displaystyle ||b||_{2}}$ を計算する\n",
        "\n",
        "5. $\\mathrm{err}$ が $\\varepsilon$ より大きい間以下を繰り返す\n",
        "\n",
        "6. $\\alpha = \\frac{\\displaystyle \\left(p, r\\right)}{\\displaystyle \\left(p, \\mathrm{A}p\\right)}$ を計算する\n",
        "\n",
        "7. $xを$ $x = x + \\alpha p$ と更新する\n",
        "\n",
        "8. $rを$ $r = r - \\alpha \\mathrm{A}p$ と更新する\n",
        "\n",
        "9. $\\beta = \\frac{\\displaystyle \\left(r, \\mathrm{A}p\\right)}{\\displaystyle \\left(p, \\mathrm{A}p\\right)}$ を計算する\n",
        "\n",
        "10. $p$ を $p = r - \\beta p$ と更新する\n",
        "\n",
        "11. $\\mathrm{err} = \\frac{\\displaystyle ||r||_{2}}{\\displaystyle ||b||_{2}}$ 計算する\n",
        "\n",
        "12. 5.に戻る\n",
        "\n",
        "アルゴリズム中で登場する $||\\cdot||_{2}$, $\\left(\\cdot, \\cdot\\right)$はそれぞれ $L^{2}$ノルムと内積であり以下のように計算できます.\n",
        "\n",
        "$||x||_{2} = \\sqrt{\\sum_{i=1}^{n} x_{i}^{2}} = \\sqrt{x_{1}^{2} + x_{2}^{2} + \\cdots + x_{n - 1}^{2} + x_{n}^{2}}$\n",
        "\n",
        "$\\left(x, y\\right) = \\sum_{i=1}^{n}x_{i}y_{i} = x_{1}y_{1} + x_{2}y_{2} + \\cdots + x_{n - 1}y_{n - 1} + x_{n}y_{n}$ "
      ]
    },
    {
      "cell_type": "code",
      "execution_count": null,
      "metadata": {
        "colab": {
          "base_uri": "https://localhost:8080/"
        },
        "id": "_JKFG-IiXIgy",
        "outputId": "d4192537-0189-47be-de87-9b8bc3a3f810"
      },
      "outputs": [],
      "source": [
        "x = gausselimination_withpivot(n,A,b)\n",
        "print(x)"
      ]
    },
    {
      "cell_type": "markdown",
      "metadata": {
        "id": "S4eRcQTSXwMC"
      },
      "source": [
        "## 共役勾配法を実装するための関数群\n",
        "\n",
        "共役勾配法の実装にあたり以下の関数を使用して構いません。"
      ]
    },
    {
      "cell_type": "code",
      "execution_count": 15,
      "metadata": {
        "id": "RYc_Pgu5JJT4"
      },
      "outputs": [],
      "source": [
        "import math\n",
        "import numpy as np\n",
        "\n",
        "# ベクトルxのL2ノルムを計算\n",
        "def norm2(n, x):\n",
        "    res = 0\n",
        "    for i in range(n):\n",
        "        res += x[i]**2\n",
        "    res = math.sqrt(res)\n",
        "\n",
        "    return res\n",
        "\n",
        "# 行列Aとベクトルxの行列ベクトル積Axを計算\n",
        "def matvec(n, A, x):\n",
        "    res = np.zeros(n)\n",
        "    for i in range(n):\n",
        "        tmp = 0\n",
        "        for j in range(n):\n",
        "            tmp += A[i][j]*x[j]\n",
        "        res[i] = tmp\n",
        "\n",
        "    return res\n",
        "\n",
        "# ベクトルxとベクトルyの内積を計算\n",
        "def inner_product(n, x, y):\n",
        "    res = 0\n",
        "    for i in range(n):\n",
        "        res += x[i]*y[i]\n",
        "\n",
        "    return res"
      ]
    },
    {
      "cell_type": "markdown",
      "metadata": {
        "id": "ymqlJamoX6VP"
      },
      "source": [
        "## 共役勾配法の雛形"
      ]
    },
    {
      "cell_type": "code",
      "execution_count": 18,
      "metadata": {
        "id": "lW2DofZKkNLy"
      },
      "outputs": [],
      "source": [
        "import numpy as np\n",
        "\n",
        "# 共役勾配法（CG法）でAx=bを解く\n",
        "def CG(n, A, b):\n",
        "    # 0で初期化\n",
        "    x = np.zeros(n)\n",
        "    # 残差の計算\n",
        "    r = b - matvec(n, A, x)\n",
        "    # 残差ベクトルの設定\n",
        "    p = r.copy()\n",
        "\n",
        "    # 許容誤差epsを設定\n",
        "    eps = 10**-8\n",
        "    # 誤差errを計算\n",
        "    err = norm2(n, r)/norm2(n, b)\n",
        "\n",
        "    counter = 0\n",
        "\n",
        "    # 誤差errが許容誤差epsより大きい間以下を繰り返す\n",
        "    while (err > eps):\n",
        "      # ここを編集する\n",
        "      Ap = matvec(n,A,p)\n",
        "      alpha = inner_product(n,p,r) / inner_product(n,p,Ap)\n",
        "      x += alpha * p\n",
        "      r -= alpha * Ap\n",
        "      beta = inner_product(n,r,Ap) / inner_product(n,p,Ap)\n",
        "      p = r - beta * p\n",
        "      print(f'Ap:{Ap},\\talpha:{alpha},\\tx:{x},\\tr:{r},\\tbeta:{beta},\\tp:{p}')\n",
        "      err = norm2(n, r) / norm2(n, b)\n",
        "      counter += 1\n",
        "      # print(err)\n",
        "      # if counter > 1:\n",
        "      #   break\n",
        "    # 解を出力\n",
        "    return x"
      ]
    },
    {
      "cell_type": "markdown",
      "metadata": {
        "id": "DUMoWZiCZBHT"
      },
      "source": [
        "## 共役勾配法で$Ax=b$を解く"
      ]
    },
    {
      "cell_type": "code",
      "execution_count": 19,
      "metadata": {
        "colab": {
          "base_uri": "https://localhost:8080/"
        },
        "id": "UW6HEYtBf0EK",
        "outputId": "6dd00176-91bb-4b7a-e239-df84afa4e1e8"
      },
      "outputs": [
        {
          "name": "stdout",
          "output_type": "stream",
          "text": [
            "Ap:[-1.  0.  0.  0.  0.  0.  0.  0. -1.],\talpha:0.4500000000000001,\tx:[-0.045 -0.045 -0.045 -0.045 -0.045 -0.045 -0.045 -0.045 -0.045],\tr:[ 0.35 -0.1  -0.1  -0.1  -0.1  -0.1  -0.1  -0.1   0.35],\tbeta:-3.500000000000001,\tp:[ 0.   -0.45 -0.45 -0.45 -0.45 -0.45 -0.45 -0.45  0.  ]\n",
            "Ap:[ 4.5 -4.5  0.   0.   0.   0.   0.  -4.5  4.5],\talpha:0.07777777777777777,\tx:[-0.045 -0.08  -0.08  -0.08  -0.08  -0.08  -0.08  -0.08  -0.045],\tr:[ 5.55111512e-17  2.50000000e-01 -1.00000000e-01 -1.00000000e-01\n",
            " -1.00000000e-01 -1.00000000e-01 -1.00000000e-01  2.50000000e-01\n",
            "  5.55111512e-17],\tbeta:-0.5555555555555552,\tp:[ 5.55111512e-17  1.11022302e-16 -3.50000000e-01 -3.50000000e-01\n",
            " -3.50000000e-01 -3.50000000e-01 -3.50000000e-01  1.11022302e-16\n",
            "  5.55111512e-17]\n",
            "Ap:[ 0.   3.5 -3.5  0.   0.   0.  -3.5  3.5  0. ],\talpha:0.07142857142857144,\tx:[-0.045 -0.08  -0.105 -0.105 -0.105 -0.105 -0.105 -0.08  -0.045],\tr:[ 5.55111512e-17 -5.55111512e-17  1.50000000e-01 -1.00000000e-01\n",
            " -1.00000000e-01 -1.00000000e-01  1.50000000e-01 -5.55111512e-17\n",
            "  5.55111512e-17],\tbeta:-0.4285714285714288,\tp:[ 7.93016446e-17 -7.93016446e-18 -2.77555756e-17 -2.50000000e-01\n",
            " -2.50000000e-01 -2.50000000e-01  2.77555756e-17 -7.93016446e-18\n",
            "  7.93016446e-17]\n",
            "Ap:[ 1.66533454e-15 -6.74063979e-16  2.50000000e+00 -2.50000000e+00\n",
            "  0.00000000e+00 -2.50000000e+00  2.50000000e+00 -1.22917549e-15\n",
            "  1.66533454e-15],\talpha:0.06000000000000001,\tx:[-0.045 -0.08  -0.105 -0.12  -0.12  -0.12  -0.105 -0.08  -0.045],\tr:[-4.44089210e-17 -1.50673125e-17  0.00000000e+00  5.00000000e-02\n",
            " -1.00000000e-01  5.00000000e-02  0.00000000e+00  1.82393783e-17\n",
            " -4.44089210e-17],\tbeta:-0.20000000000000018,\tp:[-2.85485921e-17 -1.66533454e-17 -5.55111512e-18 -2.77555756e-17\n",
            " -1.50000000e-01  0.00000000e+00  5.55111512e-18  1.66533454e-17\n",
            " -2.85485921e-17]\n",
            "Ap:[-4.04438388e-16  7.93016446e-18  3.33066907e-16  1.50000000e+00\n",
            " -3.00000000e+00  1.50000000e+00 -5.55111512e-17  5.63041677e-16\n",
            " -7.37505295e-16],\talpha:0.03333333333333333,\tx:[-0.045 -0.08  -0.105 -0.12  -0.125 -0.12  -0.105 -0.08  -0.045],\tr:[-3.09276414e-17 -1.53316513e-17 -1.11022302e-17  1.38777878e-17\n",
            "  1.38777878e-17  2.77555756e-17  1.85037171e-18 -5.28677631e-19\n",
            " -1.98254112e-17],\tbeta:4.625929269271491e-17,\tp:[-3.09276414e-17 -1.53316513e-17 -1.11022302e-17  1.38777878e-17\n",
            "  2.08166817e-17  2.77555756e-17  1.85037171e-18 -5.28677631e-19\n",
            " -1.98254112e-17]\n",
            "[-0.045 -0.08  -0.105 -0.12  -0.125 -0.12  -0.105 -0.08  -0.045]\n"
          ]
        }
      ],
      "source": [
        "x =  CG(n, A, b)\n",
        "print(x)"
      ]
    }
  ],
  "metadata": {
    "colab": {
      "collapsed_sections": [],
      "name": "20201217.ipynb",
      "provenance": []
    },
    "kernelspec": {
      "display_name": "env",
      "language": "python",
      "name": "python3"
    },
    "language_info": {
      "codemirror_mode": {
        "name": "ipython",
        "version": 3
      },
      "file_extension": ".py",
      "mimetype": "text/x-python",
      "name": "python",
      "nbconvert_exporter": "python",
      "pygments_lexer": "ipython3",
      "version": "3.8.10"
    },
    "vscode": {
      "interpreter": {
        "hash": "f7feb82588f236b9d63374c0be9680b92e6f13c4b42ed2d20572ed6241fd5da9"
      }
    }
  },
  "nbformat": 4,
  "nbformat_minor": 0
}
