{
  "cells": [
    {
      "cell_type": "markdown",
      "metadata": {
        "id": "EbEu6zorlSCh"
      },
      "source": [
        "# 情報計算科学の基礎レポート5(差分解析)\n",
        "\n"
      ]
    },
    {
      "cell_type": "markdown",
      "metadata": {
        "id": "yK9PD_mmySBi"
      },
      "source": [
        "## 解析コードの骨格\n",
        "このコードを書き替えて差分法解析としてください"
      ]
    },
    {
      "cell_type": "code",
      "execution_count": 13,
      "metadata": {
        "colab": {
          "base_uri": "https://localhost:8080/"
        },
        "id": "1y8zcOWEK5og",
        "outputId": "29ce0bae-b8a1-4f07-ae5d-b1e7cd3f3d02"
      },
      "outputs": [
        {
          "name": "stdout",
          "output_type": "stream",
          "text": [
            "nx= 21 ny= 21 nt= 62\n",
            "simulation: Done\n"
          ]
        }
      ],
      "source": [
        "import numpy as np\n",
        "import math\n",
        "\n",
        "dx = 0.05\n",
        "dy = dx\n",
        "dt = 0.025\n",
        "tmin = 0.0 \n",
        "tmax = 1.5 #simulate time\n",
        "\n",
        "#rectangle domain\n",
        "xmin = 0.0\n",
        "xmax = 1.0\n",
        "ymin = 0.0\n",
        "ymax = 1.0\n",
        "\n",
        "nx = int((xmax-xmin)/dx) + 1\n",
        "ny = int((ymax-ymin)/dy) + 1\n",
        "nt = int((tmax-tmin)/dt) + 2\n",
        "\n",
        "#mesh\n",
        "X = np.linspace(xmin, xmax, nx)\n",
        "Y = np.linspace(ymin, ymax, ny)\n",
        "X, Y = np.meshgrid(Y, X)\n",
        "\n",
        "#solution\n",
        "u = np.zeros((nt,nx,ny))\n",
        "\n",
        "print(\"nx=\",nx,\"ny=\",ny,\"nt=\",nt)\n",
        "\n",
        "umax = 4\n",
        "umin = -4\n",
        "\n",
        "#simulation\n",
        "for t in range(1,nt-1):\n",
        "    for x in range(0,nx):\n",
        "        for y in range(0,ny):\n",
        "            u[t][x][y] = umax*math.sin(0.1*(x+y+t))\n",
        "\n",
        "print(\"simulation: Done\")"
      ]
    },
    {
      "cell_type": "markdown",
      "metadata": {
        "id": "0n8XwvaA7WSh"
      },
      "source": [
        "## 解析結果の可視化"
      ]
    },
    {
      "cell_type": "markdown",
      "metadata": {
        "id": "Rrnt5_oQ7ei_"
      },
      "source": [
        "以下のセルを実行すると各時刻での各点における$u$の値を$[\\mathrm{umin}, \\mathrm{umax}]$の範囲に制限し、三次元のアニメーションとして描写します。\n",
        "\n",
        "※ セルの実行に1分ほどかかります。"
      ]
    },
    {
      "cell_type": "code",
      "execution_count": null,
      "metadata": {
        "id": "oGw4rF9I4xFa"
      },
      "outputs": [],
      "source": [
        "import numpy as np\n",
        "import matplotlib.pyplot as plt\n",
        "from matplotlib import animation, rc\n",
        "from mpl_toolkits.mplot3d import Axes3D\n",
        "from IPython.display import HTML\n",
        "\n",
        "fig = plt.figure()\n",
        "fig.set_dpi(100)\n",
        "ax = Axes3D(fig)\n",
        "surf=ax.plot_surface(X, Y, u[0], rstride=1, cstride=1, cmap=plt.cm.coolwarm,vmax=umax,vmin=umin)\n",
        "fig.colorbar(surf, shrink=0.6, aspect=10, label='response u')\n",
        "\n",
        "def animate(i):\n",
        "    ax.clear()\n",
        "    ax.set_xlabel('x')\n",
        "    ax.set_ylabel('y')\n",
        "    ax.set_zlim(umin, umax)\n",
        "    ax.plot_surface(X, Y, u[i], rstride=1, cstride=1, cmap=plt.cm.coolwarm,vmax=umax,vmin=umin)\n",
        "\n",
        "anim=animation.FuncAnimation(fig,animate,frames=nt-1,interval=100,repeat=True)\n",
        "\n",
        "rc('animation', html='jshtml')\n",
        "anim"
      ]
    },
    {
      "cell_type": "markdown",
      "metadata": {
        "id": "1na__WrU9T9U"
      },
      "source": [
        "以下の関数群を解析結果の可視化に使用しても構いません"
      ]
    },
    {
      "cell_type": "code",
      "execution_count": 18,
      "metadata": {
        "id": "p50zT05TWl4e"
      },
      "outputs": [],
      "source": [
        "%matplotlib inline\n",
        "import numpy as np\n",
        "import matplotlib.pyplot as plt\n",
        "from mpl_toolkits.mplot3d import Axes3D\n",
        "\n",
        "def visualize_3d_graph(Z, umin, umax):\n",
        "    fig = plt.figure()\n",
        "    fig.set_dpi(100)\n",
        "\n",
        "    ax = Axes3D(fig)\n",
        "    ax.set_xlabel('x')\n",
        "    ax.set_ylabel('y')\n",
        "    ax.set_zlim(umin, umax)\n",
        "    surf=ax.plot_surface(X, Y, Z, rstride=1, cstride=1, cmap=plt.cm.coolwarm,vmax=umax,vmin=umin)\n",
        "    fig.colorbar(surf, shrink=0.6, aspect=10, label='response u')\n",
        "\n",
        "    fig.show()\n",
        "\n",
        "\n",
        "def visualize_2d_graph(Y, dt):\n",
        "    plt.grid()\n",
        "    plt.xlabel('time t')\n",
        "    plt.ylabel('response u')\n",
        "    X = [dt*t for t in range(len(Y))]\n",
        "    plt.plot(X, Y)\n",
        "\n",
        "    plt.show()"
      ]
    },
    {
      "cell_type": "markdown",
      "metadata": {
        "id": "XoalSy2PsFX8"
      },
      "source": [
        "関数visualize_3d_graphは、時刻$　t　$での各点における$u$の値を$[\\mathrm{umin}, \\mathrm{umax}]$の範囲に制限して三次元グラフとして描写します。\n",
        "\n",
        "グラフは右クリックで保存することができます。\n",
        "\n",
        "![](https://drive.google.com/uc?export=view&id=1WLWQfUgtJdoJdvr_vckvmfT-eM8KnJW2)"
      ]
    },
    {
      "cell_type": "code",
      "execution_count": null,
      "metadata": {
        "id": "PIITLQVGXybs"
      },
      "outputs": [],
      "source": [
        "visualize_3d_graph(u[20], umin, umax)"
      ]
    },
    {
      "cell_type": "markdown",
      "metadata": {
        "id": "eQcOTRqvtczX"
      },
      "source": [
        "関数visualize_2d_graphは、点$(x, y)$における$u$の$dt$刻みの時刻歴データを二次元グラフとして描写します。\n",
        "\n",
        "こちらも右クリックでグラフを保存することができます。"
      ]
    },
    {
      "cell_type": "code",
      "execution_count": null,
      "metadata": {
        "id": "xJJ4b9C7auoS"
      },
      "outputs": [],
      "source": [
        "visualize_2d_graph(u[:, 10, 10], dt)"
      ]
    }
  ],
  "metadata": {
    "colab": {
      "collapsed_sections": [],
      "name": "20210107.ipynb",
      "provenance": []
    },
    "kernelspec": {
      "display_name": "env",
      "language": "python",
      "name": "python3"
    },
    "language_info": {
      "name": "python",
      "version": "3.8.10 (default, Nov 14 2022, 12:59:47) \n[GCC 9.4.0]"
    },
    "vscode": {
      "interpreter": {
        "hash": "f7feb82588f236b9d63374c0be9680b92e6f13c4b42ed2d20572ed6241fd5da9"
      }
    }
  },
  "nbformat": 4,
  "nbformat_minor": 0
}
